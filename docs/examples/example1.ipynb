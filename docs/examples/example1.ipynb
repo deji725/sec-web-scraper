{
 "cells": [
  {
   "cell_type": "markdown",
   "id": "57715f13",
   "metadata": {},
   "source": [
    "# SEC Web Scraper : Retrieving Financial Information"
   ]
  },
  {
   "cell_type": "markdown",
   "id": "84fb8f76",
   "metadata": {},
   "source": [
    "### Installation and Imports"
   ]
  },
  {
   "cell_type": "markdown",
   "id": "52fabcaa",
   "metadata": {},
   "source": [
    "We must first install the library and import the necessary functions from Downloader and Scraper "
   ]
  },
  {
   "cell_type": "code",
   "execution_count": 1,
   "id": "e3d6b18e",
   "metadata": {},
   "outputs": [
    {
     "name": "stdout",
     "output_type": "stream",
     "text": [
      "Requirement already satisfied: sec-web-scraper in /Users/deji/opt/miniconda3/lib/python3.9/site-packages (0.0.1)\n",
      "Requirement already satisfied: pandas in /Users/deji/opt/miniconda3/lib/python3.9/site-packages (from sec-web-scraper) (1.4.3)\n",
      "Requirement already satisfied: python-dateutil>=2.8.1 in /Users/deji/opt/miniconda3/lib/python3.9/site-packages (from pandas->sec-web-scraper) (2.8.2)\n",
      "Requirement already satisfied: numpy>=1.18.5 in /Users/deji/opt/miniconda3/lib/python3.9/site-packages (from pandas->sec-web-scraper) (1.23.1)\n",
      "Requirement already satisfied: pytz>=2020.1 in /Users/deji/opt/miniconda3/lib/python3.9/site-packages (from pandas->sec-web-scraper) (2022.1)\n",
      "Requirement already satisfied: six>=1.5 in /Users/deji/opt/miniconda3/lib/python3.9/site-packages (from python-dateutil>=2.8.1->pandas->sec-web-scraper) (1.16.0)\n"
     ]
    }
   ],
   "source": [
    "#Install the library\n",
    "!pip install sec-web-scraper\n",
    "#Output below:"
   ]
  },
  {
   "cell_type": "code",
   "execution_count": 2,
   "id": "03e1d2f8",
   "metadata": {},
   "outputs": [],
   "source": [
    "#Import\n",
    "from sec_web_scraper.Downloader import Downloader\n",
    "from sec_web_scraper.Scraper import *"
   ]
  },
  {
   "cell_type": "markdown",
   "id": "eac8ba94",
   "metadata": {},
   "source": [
    "## Build the index for year range [2002,2006]"
   ]
  },
  {
   "cell_type": "markdown",
   "id": "3b219680",
   "metadata": {},
   "source": [
    "First, we want to create our downloader object. \n",
    "\n",
    "Since we haven't built the index, the forms attribute of our Downloader should be empty"
   ]
  },
  {
   "cell_type": "code",
   "execution_count": 3,
   "id": "ea5ac8ea",
   "metadata": {},
   "outputs": [
    {
     "name": "stdout",
     "output_type": "stream",
     "text": [
      "<class 'sec_web_scraper.Downloader.Downloader'>\n"
     ]
    }
   ],
   "source": [
    "d = Downloader()\n",
    "print(type(d))\n",
    "#Output below:"
   ]
  },
  {
   "cell_type": "code",
   "execution_count": 4,
   "id": "155ae100",
   "metadata": {},
   "outputs": [
    {
     "data": {
      "text/plain": [
       "[]"
      ]
     },
     "execution_count": 4,
     "metadata": {},
     "output_type": "execute_result"
    }
   ],
   "source": [
    "d.get_forms()\n",
    "#Output below:"
   ]
  },
  {
   "cell_type": "markdown",
   "id": "f735f9ee",
   "metadata": {},
   "source": [
    "Build the index using the `build_index_sec` function for our year range"
   ]
  },
  {
   "cell_type": "code",
   "execution_count": 5,
   "id": "3d830caa",
   "metadata": {},
   "outputs": [
    {
     "name": "stderr",
     "output_type": "stream",
     "text": [
      " Downloading SEC files for Year: 2006 and QTR: 4 : 100%|██████████████████████████████████████████████████████████████████████████████████████████████████████████████████████| 5/5 [01:16<00:00, 15.23s/it]\n"
     ]
    }
   ],
   "source": [
    "d.build_index_sec(2002,2006)\n",
    "#Output below:"
   ]
  },
  {
   "cell_type": "markdown",
   "id": "0a3c41a4",
   "metadata": {},
   "source": [
    "Now, we can check the existence of forms and our newly created directory : `index_sec`"
   ]
  },
  {
   "cell_type": "code",
   "execution_count": 8,
   "id": "7485ad46",
   "metadata": {},
   "outputs": [
    {
     "data": {
      "text/plain": [
       "503"
      ]
     },
     "execution_count": 8,
     "metadata": {},
     "output_type": "execute_result"
    }
   ],
   "source": [
    "len(d.get_forms())\n",
    "#Output below:"
   ]
  },
  {
   "cell_type": "markdown",
   "id": "767c59a8",
   "metadata": {},
   "source": [
    "As we can see above, we have found 503 unique form types for this period (2002,2006).\n",
    "\n",
    "Let's print some of them ,perhaps the first 10"
   ]
  },
  {
   "cell_type": "code",
   "execution_count": 9,
   "id": "23a25a1b",
   "metadata": {},
   "outputs": [
    {
     "data": {
      "text/plain": [
       "['5/A',\n",
       " '40-6B/A',\n",
       " 'N-54A',\n",
       " 'U-1',\n",
       " '40-8FC',\n",
       " '305B2/A',\n",
       " 'F-4MEF',\n",
       " '19B-4E',\n",
       " '40-F',\n",
       " 'NT 10-K']"
      ]
     },
     "execution_count": 9,
     "metadata": {},
     "output_type": "execute_result"
    }
   ],
   "source": [
    "d.get_forms()[:10]\n",
    "#Output below:"
   ]
  },
  {
   "cell_type": "code",
   "execution_count": 11,
   "id": "d1c7be9d",
   "metadata": {},
   "outputs": [
    {
     "name": "stdout",
     "output_type": "stream",
     "text": [
      "2002-QTR1.tsv  2003-QTR1.tsv  2004-QTR1.tsv  2005-QTR1.tsv  2006-QTR1.tsv\r\n",
      "2002-QTR2.tsv  2003-QTR2.tsv  2004-QTR2.tsv  2005-QTR2.tsv  2006-QTR2.tsv\r\n",
      "2002-QTR3.tsv  2003-QTR3.tsv  2004-QTR3.tsv  2005-QTR3.tsv  2006-QTR3.tsv\r\n",
      "2002-QTR4.tsv  2003-QTR4.tsv  2004-QTR4.tsv  2005-QTR4.tsv  2006-QTR4.tsv\r\n"
     ]
    }
   ],
   "source": [
    "%ls index_sec/\n",
    "#Output below:"
   ]
  },
  {
   "cell_type": "markdown",
   "id": "6212b7ee",
   "metadata": {},
   "source": [
    "As we can see above, we have generated indices for each (year,quarter) pair in our specified range"
   ]
  },
  {
   "cell_type": "markdown",
   "id": "8bd71cea",
   "metadata": {},
   "source": [
    "## Filter our index for forms of type 5/A"
   ]
  },
  {
   "cell_type": "markdown",
   "id": "8d9e6376",
   "metadata": {},
   "source": [
    "Now that we have our index, we can try to look for forms filed within year range with form type `5/A`.\n",
    "\n",
    "The `find_files_by_type` function will do this for us!"
   ]
  },
  {
   "cell_type": "code",
   "execution_count": 16,
   "id": "d20c7267",
   "metadata": {},
   "outputs": [
    {
     "data": {
      "text/html": [
       "<div>\n",
       "<style scoped>\n",
       "    .dataframe tbody tr th:only-of-type {\n",
       "        vertical-align: middle;\n",
       "    }\n",
       "\n",
       "    .dataframe tbody tr th {\n",
       "        vertical-align: top;\n",
       "    }\n",
       "\n",
       "    .dataframe thead th {\n",
       "        text-align: right;\n",
       "    }\n",
       "</style>\n",
       "<table border=\"1\" class=\"dataframe\">\n",
       "  <thead>\n",
       "    <tr style=\"text-align: right;\">\n",
       "      <th></th>\n",
       "      <th>CIK</th>\n",
       "      <th>Company Name</th>\n",
       "      <th>Form Type</th>\n",
       "      <th>Date Filed</th>\n",
       "      <th>Filename</th>\n",
       "      <th>url</th>\n",
       "    </tr>\n",
       "  </thead>\n",
       "  <tbody>\n",
       "    <tr>\n",
       "      <th>3</th>\n",
       "      <td>1000045</td>\n",
       "      <td>NICHOLAS FINANCIAL INC</td>\n",
       "      <td>5/A</td>\n",
       "      <td>2006-01-25</td>\n",
       "      <td>edgar/data/1000045/0000897069-06-000169.txt</td>\n",
       "      <td>edgar/data/1000045/0000897069-06-000169-index....</td>\n",
       "    </tr>\n",
       "    <tr>\n",
       "      <th>4</th>\n",
       "      <td>1000045</td>\n",
       "      <td>NICHOLAS FINANCIAL INC</td>\n",
       "      <td>5/A</td>\n",
       "      <td>2006-01-25</td>\n",
       "      <td>edgar/data/1000045/0000897069-06-000171.txt</td>\n",
       "      <td>edgar/data/1000045/0000897069-06-000171-index....</td>\n",
       "    </tr>\n",
       "    <tr>\n",
       "      <th>5</th>\n",
       "      <td>1000045</td>\n",
       "      <td>NICHOLAS FINANCIAL INC</td>\n",
       "      <td>5/A</td>\n",
       "      <td>2006-01-25</td>\n",
       "      <td>edgar/data/1000045/0000897069-06-000173.txt</td>\n",
       "      <td>edgar/data/1000045/0000897069-06-000173-index....</td>\n",
       "    </tr>\n",
       "    <tr>\n",
       "      <th>3987</th>\n",
       "      <td>1006057</td>\n",
       "      <td>NOVICH NEIL S</td>\n",
       "      <td>5/A</td>\n",
       "      <td>2006-01-06</td>\n",
       "      <td>edgar/data/1006057/0000790528-06-000018.txt</td>\n",
       "      <td>edgar/data/1006057/0000790528-06-000018-index....</td>\n",
       "    </tr>\n",
       "    <tr>\n",
       "      <th>4820</th>\n",
       "      <td>1008051</td>\n",
       "      <td>MANN ALFRED E</td>\n",
       "      <td>5/A</td>\n",
       "      <td>2006-02-24</td>\n",
       "      <td>edgar/data/1008051/0001209191-06-013293.txt</td>\n",
       "      <td>edgar/data/1008051/0001209191-06-013293-index....</td>\n",
       "    </tr>\n",
       "    <tr>\n",
       "      <th>...</th>\n",
       "      <td>...</td>\n",
       "      <td>...</td>\n",
       "      <td>...</td>\n",
       "      <td>...</td>\n",
       "      <td>...</td>\n",
       "      <td>...</td>\n",
       "    </tr>\n",
       "    <tr>\n",
       "      <th>94781</th>\n",
       "      <td>847431</td>\n",
       "      <td>NYMAGIC INC</td>\n",
       "      <td>5/A</td>\n",
       "      <td>2002-10-18</td>\n",
       "      <td>edgar/data/847431/0000902561-02-000488.txt</td>\n",
       "      <td>edgar/data/847431/0000902561-02-000488-index.html</td>\n",
       "    </tr>\n",
       "    <tr>\n",
       "      <th>105650</th>\n",
       "      <td>898173</td>\n",
       "      <td>O REILLY AUTOMOTIVE INC</td>\n",
       "      <td>5/A</td>\n",
       "      <td>2002-11-15</td>\n",
       "      <td>edgar/data/898173/0000898173-02-000059.txt</td>\n",
       "      <td>edgar/data/898173/0000898173-02-000059-index.html</td>\n",
       "    </tr>\n",
       "    <tr>\n",
       "      <th>112364</th>\n",
       "      <td>924717</td>\n",
       "      <td>SURMODICS INC</td>\n",
       "      <td>5/A</td>\n",
       "      <td>2002-11-20</td>\n",
       "      <td>edgar/data/924717/0000950134-02-014785.txt</td>\n",
       "      <td>edgar/data/924717/0000950134-02-014785-index.html</td>\n",
       "    </tr>\n",
       "    <tr>\n",
       "      <th>112365</th>\n",
       "      <td>924717</td>\n",
       "      <td>SURMODICS INC</td>\n",
       "      <td>5/A</td>\n",
       "      <td>2002-11-21</td>\n",
       "      <td>edgar/data/924717/0000950134-02-014829.txt</td>\n",
       "      <td>edgar/data/924717/0000950134-02-014829-index.html</td>\n",
       "    </tr>\n",
       "    <tr>\n",
       "      <th>115707</th>\n",
       "      <td>942011</td>\n",
       "      <td>OREILLY LAWRENCE P</td>\n",
       "      <td>5/A</td>\n",
       "      <td>2002-11-15</td>\n",
       "      <td>edgar/data/942011/0000898173-02-000059.txt</td>\n",
       "      <td>edgar/data/942011/0000898173-02-000059-index.html</td>\n",
       "    </tr>\n",
       "  </tbody>\n",
       "</table>\n",
       "<p>3692 rows × 6 columns</p>\n",
       "</div>"
      ],
      "text/plain": [
       "            CIK             Company Name Form Type  Date Filed  \\\n",
       "3       1000045   NICHOLAS FINANCIAL INC       5/A  2006-01-25   \n",
       "4       1000045   NICHOLAS FINANCIAL INC       5/A  2006-01-25   \n",
       "5       1000045   NICHOLAS FINANCIAL INC       5/A  2006-01-25   \n",
       "3987    1006057            NOVICH NEIL S       5/A  2006-01-06   \n",
       "4820    1008051            MANN ALFRED E       5/A  2006-02-24   \n",
       "...         ...                      ...       ...         ...   \n",
       "94781    847431              NYMAGIC INC       5/A  2002-10-18   \n",
       "105650   898173  O REILLY AUTOMOTIVE INC       5/A  2002-11-15   \n",
       "112364   924717            SURMODICS INC       5/A  2002-11-20   \n",
       "112365   924717            SURMODICS INC       5/A  2002-11-21   \n",
       "115707   942011       OREILLY LAWRENCE P       5/A  2002-11-15   \n",
       "\n",
       "                                           Filename  \\\n",
       "3       edgar/data/1000045/0000897069-06-000169.txt   \n",
       "4       edgar/data/1000045/0000897069-06-000171.txt   \n",
       "5       edgar/data/1000045/0000897069-06-000173.txt   \n",
       "3987    edgar/data/1006057/0000790528-06-000018.txt   \n",
       "4820    edgar/data/1008051/0001209191-06-013293.txt   \n",
       "...                                             ...   \n",
       "94781    edgar/data/847431/0000902561-02-000488.txt   \n",
       "105650   edgar/data/898173/0000898173-02-000059.txt   \n",
       "112364   edgar/data/924717/0000950134-02-014785.txt   \n",
       "112365   edgar/data/924717/0000950134-02-014829.txt   \n",
       "115707   edgar/data/942011/0000898173-02-000059.txt   \n",
       "\n",
       "                                                      url  \n",
       "3       edgar/data/1000045/0000897069-06-000169-index....  \n",
       "4       edgar/data/1000045/0000897069-06-000171-index....  \n",
       "5       edgar/data/1000045/0000897069-06-000173-index....  \n",
       "3987    edgar/data/1006057/0000790528-06-000018-index....  \n",
       "4820    edgar/data/1008051/0001209191-06-013293-index....  \n",
       "...                                                   ...  \n",
       "94781   edgar/data/847431/0000902561-02-000488-index.html  \n",
       "105650  edgar/data/898173/0000898173-02-000059-index.html  \n",
       "112364  edgar/data/924717/0000950134-02-014785-index.html  \n",
       "112365  edgar/data/924717/0000950134-02-014829-index.html  \n",
       "115707  edgar/data/942011/0000898173-02-000059-index.html  \n",
       "\n",
       "[3692 rows x 6 columns]"
      ]
     },
     "execution_count": 16,
     "metadata": {},
     "output_type": "execute_result"
    }
   ],
   "source": [
    "res = d.find_files_by_type('5/A')\n",
    "res\n",
    "#Output below:"
   ]
  },
  {
   "cell_type": "markdown",
   "id": "d951308f",
   "metadata": {},
   "source": [
    "As we can see above, there are 3692 different 5/A filings!"
   ]
  },
  {
   "cell_type": "markdown",
   "id": "9d543921",
   "metadata": {},
   "source": [
    "## Scraper "
   ]
  },
  {
   "cell_type": "markdown",
   "id": "5854fa67",
   "metadata": {},
   "source": [
    "Now that we have our 5/A's, what if we wanted to scrape a particular company's filing? \n",
    "\n",
    "Let's choose Surmodics Inc (CIK : 0000924717) 5/A filed on 2002-11-20.\n",
    "\n",
    "First, let's just look at the information available in the SEC database for Surmodics with `get_company_filings_given_cik`"
   ]
  },
  {
   "cell_type": "code",
   "execution_count": 23,
   "id": "4c36a720",
   "metadata": {},
   "outputs": [
    {
     "name": "stdout",
     "output_type": "stream",
     "text": [
      "Surgical & Medical Instruments & Apparatus\n"
     ]
    }
   ],
   "source": [
    "surmodics_dic = get_company_filings_given_cik('0000924717')\n",
    "#Output below:"
   ]
  },
  {
   "cell_type": "code",
   "execution_count": 26,
   "id": "a4e53700",
   "metadata": {},
   "outputs": [
    {
     "data": {
      "text/plain": [
       "{'mailing': {'street1': '9924 WEST 74TH ST',\n",
       "  'street2': None,\n",
       "  'city': 'EDEN PRAIRIE',\n",
       "  'stateOrCountry': 'MN',\n",
       "  'zipCode': '55344',\n",
       "  'stateOrCountryDescription': 'MN'},\n",
       " 'business': {'street1': '9924 W 74TH ST',\n",
       "  'street2': None,\n",
       "  'city': 'EDEN PRAIRIE',\n",
       "  'stateOrCountry': 'MN',\n",
       "  'zipCode': '55344',\n",
       "  'stateOrCountryDescription': 'MN'}}"
      ]
     },
     "execution_count": 26,
     "metadata": {},
     "output_type": "execute_result"
    }
   ],
   "source": [
    "surmodics_dic['addresses']\n",
    "#Output below:"
   ]
  },
  {
   "cell_type": "code",
   "execution_count": 31,
   "id": "384804c2",
   "metadata": {},
   "outputs": [
    {
     "data": {
      "text/plain": [
       "[{'name': 'CIK0000924717-submissions-001.json',\n",
       "  'filingCount': 438,\n",
       "  'filingFrom': '1997-12-24',\n",
       "  'filingTo': '2008-11-18'}]"
      ]
     },
     "execution_count": 31,
     "metadata": {},
     "output_type": "execute_result"
    }
   ],
   "source": [
    "surmodics_dic['filings']['files']\n",
    "#Output below:"
   ]
  },
  {
   "cell_type": "markdown",
   "id": "7451f2ec",
   "metadata": {},
   "source": [
    "Now, let's get the raw 5/A text\n",
    "\n",
    "We can use our `get_document_given_link` function"
   ]
  },
  {
   "cell_type": "code",
   "execution_count": 32,
   "id": "4932dd93",
   "metadata": {},
   "outputs": [],
   "source": [
    "surmodics_link = \"https://www.sec.gov/Archives/edgar/data/924717/0000950134-02-014785.txt\""
   ]
  },
  {
   "cell_type": "code",
   "execution_count": 33,
   "id": "0e4fbe15",
   "metadata": {},
   "outputs": [
    {
     "name": "stdout",
     "output_type": "stream",
     "text": [
      "https://www.sec.gov/Archives/edgar/data/924717/0000950134-02-014785.txt\n",
      "{'User-Agent': 'Mozilla/5.0 (Macintosh; Intel Mac OS X 10.15; rv:94.0) Gecko/20100101 Firefox', 'Accept': 'application/json, text/javascript, */*; q=0.01'}\n",
      "ok\n"
     ]
    }
   ],
   "source": [
    "raw_txt = get_document_given_link(surmodics_link)\n",
    "#Output below:"
   ]
  },
  {
   "cell_type": "code",
   "execution_count": 34,
   "id": "970f35e4",
   "metadata": {},
   "outputs": [
    {
     "data": {
      "text/plain": [
       "'-----BEGIN PRIVACY-ENHANCED MESSAGE-----\\nProc-Type: 2001,MIC-CLEAR\\nOriginator-Name: webmaster@www.sec.gov\\nOriginator-Key-Asymmetric:\\n MFgwCgYEVQgBAQICAf8DSgAwRwJAW2sNKK9AVtBzYZmr6aGjlWyK3XmZv3dTINen\\n TWSM7vrzLADbmYQaionwg5sDW3P6oaM5D3tdezXMm7z1T+B+twIDAQAB\\nMIC-Info: RSA-MD5,RSA,\\n Cp7qAyzP95tJvCUP8ipPYpigzAcjUT+1kQNxu+OvEfyg8h11sDb0IReng+8t/M0r\\n VANkRIow3cmOm0XhWvBMkQ==\\n\\n<SEC-DOCUMENT>0000950134-02-014785.txt : 20021120\\n<SEC-HEADER>0000950134-02-014785.hdr.sgml : 20021120\\n<ACCEPTANCE-DATETIME>20021120143444\\nACCESSION NUMBER:\\t\\t0000950134-02-014785\\nCONFORMED SUBMISSION TYPE:\\t5/A\\nPUBLIC DOCUMENT COUNT:\\t\\t1\\nCONFORMED PERIOD OF REPORT:\\t20020930\\nFILED AS OF DATE:\\t\\t20021120\\n\\nSUBJECT COMPANY:\\t\\n\\n\\tCOMPANY DATA:\\t\\n\\t\\tCOMPANY CONFORMED NAME:\\t\\t\\tSURMODICS INC\\n\\t\\tCENTRAL INDEX KEY:\\t\\t\\t0000924717\\n\\t\\tSTANDARD INDUSTRIAL CLASSIFICATION:\\tADHESIVES & SEALANTS [2891]\\n\\t\\tIRS NUMBER:\\t\\t\\t\\t411356149\\n\\t\\tSTATE OF INCORPORATION:\\t\\t\\tMN\\n\\t\\tFISCAL YEAR END:\\t\\t\\t0930\\n\\n\\tFILING VALUES:\\n\\t\\tFORM TYPE:\\t\\t5/A\\n\\t\\tSEC ACT:\\t\\t1934 Act\\n\\t\\tSEC FILE NUMBER:\\t000-23837\\n\\t\\tFILM NUMBER:\\t\\t02834607\\n\\n\\tBUSINESS ADDRESS:\\t\\n\\t\\tSTREET 1:\\t\\t9924 W 74TH ST\\n\\t\\tCITY:\\t\\t\\tEDEN PRAIRIE\\n\\t\\tSTATE:\\t\\t\\tMN\\n\\t\\tZIP:\\t\\t\\t55344\\n\\t\\tBUSINESS PHONE:\\t\\t6128292700\\n\\n\\tMAIL ADDRESS:\\t\\n\\t\\tSTREET 1:\\t\\t9924 WEST 74TH ST\\n\\t\\tCITY:\\t\\t\\tEDEN PRAIRIE\\n\\t\\tSTATE:\\t\\t\\tMN\\n\\t\\tZIP:\\t\\t\\t55344\\n\\n\\tFORMER COMPANY:\\t\\n\\t\\tFORMER CONFORMED NAME:\\tBSI CORP\\n\\t\\tDATE OF NAME CHANGE:\\t19970506\\n\\nREPORTING-OWNER:\\t\\n\\n\\tCOMPANY DATA:\\t\\n\\t\\tCOMPANY CONFORMED NAME:\\t\\t\\tMESLOW JOHN A\\n\\t\\tCENTRAL INDEX KEY:\\t\\t\\t0001182832\\n\\t\\tRELATIONSHIP:\\t\\t\\t\\tDIRECTOR\\n\\n\\tFILING VALUES:\\n\\t\\tFORM TYPE:\\t\\t5/A\\n\\n\\tBUSINESS ADDRESS:\\t\\n\\t\\tSTREET 1:\\t\\tC/O SURMODIES INC\\n\\t\\tSTREET 2:\\t\\t9924 WEST 74TH ST\\n\\t\\tCITY:\\t\\t\\tEDEN PRIRIE\\n\\t\\tSTATE:\\t\\t\\tMN\\n\\t\\tZIP:\\t\\t\\t55344\\n\\t\\tBUSINESS PHONE:\\t\\t9528292700\\n\\n\\tMAIL ADDRESS:\\t\\n\\t\\tSTREET 1:\\t\\tC/O SURMODIES INC\\n\\t\\tSTREET 2:\\t\\t9924 WEST 74TH ST\\n\\t\\tCITY:\\t\\t\\tEDEN PRAIRIE\\n\\t\\tSTATE:\\t\\t\\tMN\\n\\t\\tZIP:\\t\\t\\t55344\\n</SEC-HEADER>\\n<DOCUMENT>\\n<TYPE>5/A\\n<SEQUENCE>1\\n<FILENAME>c73128je5za.htm\\n<DESCRIPTION>AMENDMENT NO. 1 TO FORM 5\\n<TEXT>\\n<HTML>\\n<HEAD>\\n<TITLE>Surmodics, Inc.</TITLE>\\n</HEAD>\\n<BODY bgcolor=\"#FFFFFF\">\\n<!-- PAGEBREAK -->\\n<H5 align=\"left\" style=\"page-break-before:always\">&nbsp;</H5><P>\\n<P>\\n<TABLE align=\"right\" width=\"160\" border=\"1\" cellspacing=\"0\" cellpadding=\"1\">\\n<TR><TD align=\"center\" nowrap><FONT size=\"2\">OMB APPROVAL</FONT></TD></TR>\\n<TR><TD nowrap><FONT size=\"2\">OMB Number: 3235-0362</FONT></TD></TR>\\n<TR><TD nowrap><FONT size=\"2\">Expires: January 31, 2005</FONT></TD></TR>\\n<TR><TD nowrap><FONT size=\"2\">Estimated average burden<BR>\\nhours per response...1.0</FONT></TD></TR></TABLE>\\n\\n<BR clear=\"right\">\\n<BR clear=\"right\">\\n\\n<P align=\"center\"><FONT size=\"4\"><B>UNITED STATES<BR>\\nSECURITIES AND EXCHANGE COMMISSION</B></FONT><BR>\\n<FONT size=\"3\"><B>Washington, DC 20549</B></FONT>\\n\\n<P align=\"center\"><FONT size=\"5\"><B>FORM 5</B></FONT>\\n<P>\\n<P align=\"center\"><FONT size=\"4\"><B>ANNUAL STATEMENT OF CHANGES IN BENEFICIAL\\nOWNERSHIP</B></FONT>\\n<P align=\"center\"><FONT size=\"3\"><B>Filed pursuant to Section 16(a) of the\\nSecurities Exchange Act of 1934,<BR>\\nSection 17(a) of the Public Utility Holding Company Act of 1935 or<BR>\\nSection 30(h) of the Investment Company Act of 1940</B></FONT>\\n<P>\\n<TABLE border=\"0\" cellspacing=\"0\" cellpadding=\"4\">\\n\\n<TR valign=\"top\">\\n<TD><FONT face=\"wingdings\">&#111;</FONT></TD>\\n<TD><FONT size=\"2\">Check box if no longer<BR>\\nsubject to Section&nbsp;16.<BR>\\nForm&nbsp;4 or Form&nbsp;5<BR>\\nobligations may continue.<BR>\\nSee Instruction&nbsp;1(b).</FONT></TD>\\n</TR>\\n\\n<TR valign=\"top\">\\n<TD><FONT face=\"wingdings\">&#111;</FONT></TD>\\n<TD><FONT size=\"2\">Form 3 Holdings Reported</FONT></TD>\\n</TR>\\n\\n<TR valign=\"top\">\\n<TD><FONT face=\"wingdings\">&#111;</FONT></TD>\\n<TD><FONT size=\"2\">Form 4 Transactions Reported</FONT></TD>\\n</TR>\\n</TABLE>\\n\\n<TABLE border=\"0\" cellspacing=\"0\" cellpadding=\"4\" width=\"100%\">\\n<TR>\\n<TD colspan=\"13\"><HR noshade></TD>\\n</TR>\\n<TR valign=\"top\">\\n<TD width=\"1%\"><FONT size=\"2\"><B>1.</B></FONT></TD>\\n<TD width=\"25%\" colspan=\"4\" nowrap><FONT size=\"2\"><B>Name and Address of\\nReporting<BR> Person*</B></FONT></TD>\\n<TD width=\"1%\"><FONT size=\"2\"><B>2.</B></FONT></TD>\\n<TD width=\"20%\" colspan=\"4\" nowrap><FONT size=\"2\"><B>Issuer Name and Ticker or\\nTrading<BR> Symbol</B></FONT></TD>\\n<TD width=\"1%\"><FONT size=\"2\"><B>3.</B></FONT></TD>\\n<TD width=\"20%\" nowrap colspan=\"2\"><FONT size=\"2\"><B>I.R.S. Identification\\nNumber of Reporting<BR> Person, if an entity</B> <I>(Voluntary)</I></FONT></TD>\\n</TR>\\n\\n<TR valign=\"bottom\">\\n<TD><FONT size=\"2\">&nbsp;</FONT></TD>\\n<TD colspan=\"4\" rowspan=\"3\" valign=\"middle\"><FONT size=\"2\">Meslow John\\nA.</FONT><HR size=\"1\" noshade><I>(Last) (First) (Middle)</I></TD>\\n<TD><FONT size=\"2\">&nbsp;</FONT></TD>\\n<TD colspan=\"4\" rowspan=\"2\" valign=\"bottom\"><FONT size=\"2\">SurModics, Inc.\\n(SRDX)</FONT><HR size=\"1\" noshade></TD>\\n<TD><FONT size=\"2\">&nbsp;</FONT></TD>\\n<TD colspan=\"2\" rowspan=\"2\"><FONT size=\"2\"></FONT><HR size=\"1\" noshade></TD>\\n</TR>\\n\\n<TR valign=\"top\">\\n<TD><FONT size=\"2\">&nbsp;</FONT></TD>\\n<TD><FONT size=\"2\">&nbsp;</FONT></TD>\\n</TR>\\n\\n\\n<TR valign=\"top\">\\n<TD><FONT size=\"2\">&nbsp;</FONT></TD>\\n<TD><FONT size=\"2\">&nbsp;</FONT></TD>\\n<TD><FONT size=\"2\">&nbsp;</FONT></TD>\\n<TD><FONT size=\"2\">&nbsp;</FONT></TD>\\n<TD><FONT size=\"2\">&nbsp;</FONT></TD>\\n<TD><FONT size=\"2\">&nbsp;</FONT></TD>\\n<TD><FONT size=\"2\">&nbsp;</FONT></TD>\\n<TD><FONT size=\"2\">&nbsp;</FONT></TD>\\n<TD><FONT size=\"2\">&nbsp;</FONT></TD>\\n</TR>\\n\\n<TR valign=\"top\">\\n<TD><FONT size=\"2\">&nbsp;</FONT></TD>\\n<TD colspan=\"4\" rowspan=\"2\" valign=\"bottom\"><FONT size=\"2\">1386 Knollwood\\nLane<BR>\\n</FONT><HR size=\"1\" noshade></TD>\\n<TD><FONT size=\"2\"><B>4.</B></FONT></TD>\\n<TD colspan=\"4\"><FONT size=\"2\"><B>Statement for Month&#47;Year</B></FONT></TD>\\n<TD><FONT size=\"2\"><B>5.</B></FONT></TD>\\n<TD colspan=\"2\"><FONT size=\"2\"><B>If Amendment, Date of Original</B>\\n<I>(Month&#47;Year)</I></FONT></TD>\\n</TR>\\n\\n<TR valign=\"top\">\\n<TD><FONT size=\"2\">&nbsp;</FONT></TD>\\n<TD><FONT size=\"2\">&nbsp;</FONT></TD>\\n<TD colspan=\"4\"><FONT size=\"2\">&nbsp;</FONT><HR size=\"1\" noshade></TD>\\n<TD><FONT size=\"2\">&nbsp;</FONT></TD>\\n<TD colspan=\"2\"><FONT size=\"2\">September 2002</FONT><HR size=\"1\" noshade></TD>\\n</TR>\\n\\n<TR valign=\"top\">\\n<TD><FONT size=\"2\">&nbsp;</FONT></TD>\\n<TD colspan=\"4\"><FONT size=\"2\"><I>(Street)</I></FONT></TD>\\n<TD><FONT size=\"2\"><B>6.</B></FONT></TD>\\n<TD colspan=\"4\"><FONT size=\"2\"><B>Relationship of Reporting Person(s)<BR>\\nto Issuer</B> <I>(Check All Applicable)</I></FONT></TD>\\n<TD><FONT size=\"2\"><B>7.</B></FONT></TD>\\n<TD colspan=\"2\"><FONT size=\"2\"><B>Individual or Joint&#47;Group\\nReporting</B><BR>\\n<I>(Check Applicable Line)</I></FONT></TD>\\n</TR>\\n\\n<TR valign=\"top\">\\n<TD><FONT size=\"2\">&nbsp;</FONT></TD>\\n<TD colspan=\"4\" rowspan=\"3\" valign=\"bottom\"><FONT size=\"2\">Mendota Heights MN\\n55118</FONT><HR size=\"1\" noshade><FONT size=\"2\"><I>\\n(City)&nbsp;&nbsp;&nbsp;&nbsp;&nbsp;&nbsp;&nbsp;\\n(State)&nbsp;&nbsp;&nbsp;&nbsp;&nbsp;&nbsp;&nbsp; (Zip)</I></FONT></TD>\\n<TD><FONT size=\"2\">&nbsp;</FONT></TD>\\n<TD nowrap><FONT face=\"wingdings\">&#120;</FONT></TD>\\n<TD nowrap><FONT size=\"2\">&nbsp;Director</FONT></TD>\\n<TD width=\"1%\" nowrap><FONT face=\"wingdings\">&#111;</FONT></TD>\\n<TD nowrap><FONT size=\"2\">&nbsp;10% Owner</FONT></TD>\\n<TD><FONT size=\"2\">&nbsp;</FONT></TD>\\n<TD><FONT face=\"wingdings\">&#120;</FONT></TD>\\n<TD><FONT size=\"2\">Form filed by One Reporting Person</FONT></TD>\\n</TR>\\n\\n<TR valign=\"top\">\\n<TD><FONT size=\"2\">&nbsp;</FONT></TD>\\n<TD><FONT size=\"2\">&nbsp;</FONT></TD>\\n<TD width=\"1%\" nowrap><FONT face=\"wingdings\">&#111;</FONT></TD>\\n<TD colspan=\"3\" nowrap><FONT size=\"2\">&nbsp;Officer <I>(give title\\nbelow)</I></FONT></TD>\\n<TD><FONT size=\"2\">&nbsp;</FONT></TD>\\n<TD><FONT face=\"wingdings\">&#111;</FONT></TD>\\n<TD rowspan=\"2\"><FONT size=\"2\">Form filed by More than One Reporting\\nPerson</FONT></TD>\\n</TR>\\n\\n<TR valign=\"top\">\\n<TD><FONT size=\"2\">&nbsp;</FONT></TD>\\n<TD><FONT size=\"2\">&nbsp;</FONT></TD>\\n<TD width=\"1%\" nowrap><FONT face=\"wingdings\">&#111;</FONT></TD>\\n<TD nowrap colspan=\"3\"><FONT size=\"2\">&nbsp;Other <I>(specify\\nbelow)</I></FONT></TD>\\n<TD><FONT size=\"2\">&nbsp;</FONT></TD>\\n</TR>\\n\\n<TR valign=\"top\">\\n<TD><FONT size=\"2\">&nbsp;</FONT></TD>\\n<TD colspan=\"4\"><FONT size=\"2\">&nbsp;</FONT></TD>\\n<TD><FONT size=\"2\">&nbsp;</FONT></TD>\\n<TD nowrap></TD>\\n<TD colspan=\"3\"><FONT size=\"2\"></FONT><HR size=\"1\" noshade></TD>\\n<TD><FONT size=\"2\">&nbsp;</FONT></TD>\\n<TD>&nbsp;</TD>\\n<TD><FONT size=\"2\">&nbsp;</FONT></TD>\\n</TR>\\n\\n<TR>\\n<TD colspan=\"13\"><HR noshade></TD>\\n</TR>\\n</TABLE>\\n\\n\\n<TABLE border=\"0\" width=\"100%\">\\n\\n<TR>\\n<TD align=\"right\" valign=\"top\" width=\"1%\"><FONT size=\"2\">*</FONT></TD>\\n<TD width=\"2%\"><FONT size=\"2\">&nbsp;</FONT></TD>\\n<TD width=\"97%\"><FONT size=\"2\">If the form is filed by more than one reporting\\nperson, see instruction 4(b)(v).</FONT></TD>\\n</TR>\\n\\n</TABLE>\\n\\n<!-- PAGEBREAK -->\\n<P><HR noshade><P>\\n<H5 align=\"left\" style=\"page-break-before:always\">&nbsp;</H5><P>\\n\\n<TABLE border=\"0\" cellspacing=\"0\" cellpadding=\"2\" width=\"100%\">\\n<TR valign=\"bottom\">\\n<TD width=\"2%\"><FONT size=\"1\">&nbsp;</FONT></TD>\\n<TD width=\"5%\"><FONT size=\"1\">&nbsp;</FONT></TD>\\n<TD width=\"2%\"><FONT size=\"1\">&nbsp;</FONT></TD>\\n<TD width=\"8%\"><FONT size=\"1\">&nbsp;</FONT></TD>\\n<TD width=\"2%\"><FONT size=\"1\">&nbsp;</FONT></TD>\\n<TD width=\"9%\"><FONT size=\"1\">&nbsp;</FONT></TD>\\n<TD width=\"2%\"><FONT size=\"1\">&nbsp;</FONT></TD>\\n<TD width=\"3%\"><FONT size=\"1\">&nbsp;</FONT></TD>\\n<TD width=\"4%\"><FONT size=\"1\">&nbsp;</FONT></TD>\\n<TD width=\"2%\"><FONT size=\"1\">&nbsp;</FONT></TD>\\n<TD width=\"1%\"><FONT size=\"1\">&nbsp;</FONT></TD>\\n<TD width=\"1%\"><FONT size=\"1\">&nbsp;</FONT></TD>\\n<TD width=\"1%\"><FONT size=\"1\">&nbsp;</FONT></TD>\\n<TD width=\"3%\"><FONT size=\"1\">&nbsp;</FONT></TD>\\n<TD width=\"1%\"><FONT size=\"1\">&nbsp;</FONT></TD>\\n<TD width=\"3%\"><FONT size=\"1\">&nbsp;</FONT></TD>\\n<TD width=\"1%\"><FONT size=\"1\">&nbsp;</FONT></TD>\\n<TD width=\"2%\"><FONT size=\"1\">&nbsp;</FONT></TD>\\n<TD width=\"3%\"><FONT size=\"1\">&nbsp;</FONT></TD>\\n<TD width=\"4%\"><FONT size=\"1\">&nbsp;</FONT></TD>\\n<TD width=\"3%\"><FONT size=\"1\">&nbsp;</FONT></TD>\\n<TD width=\"2%\"><FONT size=\"1\">&nbsp;</FONT></TD>\\n<TD width=\"6%\"><FONT size=\"1\">&nbsp;</FONT></TD>\\n<TD width=\"2%\"><FONT size=\"1\">&nbsp;</FONT></TD>\\n<TD width=\"4%\"><FONT size=\"1\">&nbsp;</FONT></TD>\\n</TR>\\n<TR>\\n<TD colspan=\"25\"><HR noshade></TD>\\n</TR>\\n<TR>\\n<TD align=\"center\" colspan=\"25\"><FONT size=\"2\"><B>Table I &#151; Non-Derivative\\nSecurities Acquired, Disposed of, or Beneficially Owned</B></FONT></TD>\\n</TR>\\n<TR>\\n<TD colspan=\"25\"><HR noshade></TD>\\n</TR>\\n<TR valign=\"top\">\\n<TD><FONT size=\"1\"><B>1.</B></FONT></TD>\\n<TD><FONT size=\"1\"><B>Title of<BR>Security</B><BR><I>(Instr. 3)</I></FONT></TD>\\n<TD><FONT size=\"1\"><B>2.</B></FONT></TD>\\n<TD nowrap><FONT\\nsize=\"1\"><B>Transaction<BR>Date</B><BR><I>(Month&#47;Day&#47;Year)</I></FONT></TD>\\n<TD><FONT size=\"1\"><B>2A.</B></FONT></TD>\\n<TD nowrap><FONT size=\"1\"><B>Deemed Execution<BR>Date, if\\nany</B><BR><I>(Month&#47;Day&#47;Year)</I></FONT></TD>\\n<TD><FONT size=\"1\"><B>3.</B></FONT></TD>\\n<TD colspan=\"2\"><FONT size=\"1\"><B>Transaction<BR>Code</B><BR><I>(Instr.\\n8)</I></FONT></TD>\\n<TD><FONT size=\"1\"><B>4.</B></FONT></TD>\\n<TD colspan=\"7\" nowrap><FONT size=\"1\"><B>Securities Acquired (A)<BR>or Disposed\\nof (D)</B><BR><I>(Instr. 3, 4 and 5)</I></FONT></TD>\\n<TD><FONT size=\"1\"><B>5.</B></FONT></TD>\\n<TD colspan=\"3\" nowrap><FONT size=\"1\"><B>Amount of Securities<BR>Beneficially\\nOwned<BR>at the End of Issuer\\'s<BR>Fiscal Year</B><BR><I>(Instr. 3 and\\n4)</I></FONT></TD>\\n<TD><FONT size=\"1\"><B>6.</B></FONT></TD>\\n<TD nowrap><FONT size=\"1\"><B>Ownership<BR>Form:<BR>Direct (D) or<BR>Indirect\\n(I)</B><BR><I>(Instr. 4)</I></FONT></TD>\\n<TD><FONT size=\"1\"><B>7.</B></FONT></TD>\\n<TD nowrap><FONT size=\"1\"><B>Nature\\nof<BR>Indirect<BR>Beneficial<BR>Ownership</B><BR><I>(Instr. 4)</I></FONT></TD>\\n</TR>\\n<TR>\\n<TD colspan=\"25\"><HR noshade></TD>\\n</TR>\\n<TR valign=\"bottom\">\\n<TD><FONT size=\"1\">&nbsp;</FONT></TD>\\n<TD><FONT size=\"1\">&nbsp;</FONT></TD>\\n<TD><FONT size=\"1\">&nbsp;</FONT></TD>\\n<TD align=\"center\"><FONT size=\"1\">&nbsp;</FONT></TD>\\n<TD><FONT size=\"1\">&nbsp;</FONT></TD>\\n<TD align=\"center\"><FONT size=\"1\">&nbsp;</FONT></TD>\\n<TD><FONT size=\"1\">&nbsp;</FONT></TD>\\n<TD><FONT size=\"1\">&nbsp;</FONT></TD>\\n<TD><FONT size=\"1\">&nbsp;</FONT></TD>\\n<TD><FONT size=\"1\">&nbsp;</FONT></TD>\\n<TD colspan=\"3\" align=\"center\"><FONT size=\"1\"><B>Amount</B></FONT></TD>\\n<TD align=\"center\"><FONT size=\"1\"><B>(A)<BR>or<BR>(D)</B></FONT></TD>\\n<TD align=\"center\" colspan=\"3\"><FONT size=\"1\"><B>Price</B></FONT></TD>\\n<TD><FONT size=\"1\">&nbsp;</FONT></TD>\\n<TD colspan=\"3\"><FONT size=\"1\">&nbsp;</FONT></TD>\\n<TD><FONT size=\"1\">&nbsp;</FONT></TD>\\n<TD><FONT size=\"1\">&nbsp;</FONT></TD>\\n<TD><FONT size=\"1\">&nbsp;</FONT></TD>\\n<TD><FONT size=\"1\">&nbsp;</FONT></TD>\\n</TR>\\n\\n<TR>\\n<TD colspan=\"25\"><HR noshade></TD>\\n</TR>\\n\\n<TR valign=\"bottom\" bgcolor=\"#eeeeee\">\\n<TD><FONT size=\"1\">&nbsp;</FONT></TD>\\n<TD><FONT size=\"1\">Common Stock </FONT></TD>\\n<TD><FONT size=\"1\">&nbsp;</FONT></TD>\\n<TD><FONT size=\"1\"></FONT></TD>\\n<TD><FONT size=\"1\">&nbsp;</FONT></TD>\\n<TD><FONT size=\"1\"></FONT></TD>\\n<TD><FONT size=\"1\">&nbsp;</FONT></TD>\\n<TD colspan=\"2\"><FONT size=\"1\"> </FONT></TD>\\n<TD><FONT size=\"1\">&nbsp;</FONT></TD>\\n<TD><FONT size=\"1\"></FONT></TD>\\n<TD align=\"right\" nowrap><FONT size=\"1\"></FONT></TD>\\n<TD><FONT size=\"1\">&nbsp;</FONT></TD>\\n<TD align=\"center\"><FONT size=\"1\"> </FONT></TD>\\n<TD><FONT size=\"1\"></FONT></TD>\\n<TD align=\"right\" nowrap><FONT size=\"1\"></FONT></TD>\\n<TD><FONT size=\"1\"></FONT></TD>\\n<TD><FONT size=\"1\">&nbsp;</FONT></TD>\\n<TD><FONT size=\"1\">&nbsp;</FONT></TD>\\n<TD align=\"right\"><FONT size=\"1\">28,000*</FONT></TD>\\n<TD><FONT size=\"1\">&nbsp;</FONT></TD>\\n<TD><FONT size=\"1\">&nbsp;</FONT></TD>\\n<TD><FONT size=\"1\">D</FONT></TD>\\n<TD><FONT size=\"1\">&nbsp;</FONT></TD>\\n<TD><FONT size=\"1\"></FONT></TD>\\n</TR>\\n\\n<TR>\\n<TD colspan=\"25\"><HR noshade></TD>\\n</TR>\\n\\n<TR valign=\"bottom\">\\n<TD><FONT size=\"1\">&nbsp;</FONT></TD>\\n<TD><FONT size=\"1\"> </FONT></TD>\\n<TD><FONT size=\"1\">&nbsp;</FONT></TD>\\n<TD><FONT size=\"1\"></FONT></TD>\\n<TD><FONT size=\"1\">&nbsp;</FONT></TD>\\n<TD><FONT size=\"1\"></FONT></TD>\\n<TD><FONT size=\"1\">&nbsp;</FONT></TD>\\n<TD colspan=\"2\"><FONT size=\"1\"> </FONT></TD>\\n<TD><FONT size=\"1\">&nbsp;</FONT></TD>\\n<TD><FONT size=\"1\"></FONT></TD>\\n<TD align=\"right\" nowrap><FONT size=\"1\"></FONT></TD>\\n<TD><FONT size=\"1\">&nbsp;</FONT></TD>\\n<TD align=\"center\"><FONT size=\"1\"></FONT></TD>\\n<TD><FONT size=\"1\"></FONT></TD>\\n<TD align=\"right\" nowrap><FONT size=\"1\"></FONT></TD>\\n<TD><FONT size=\"1\"></FONT></TD>\\n<TD><FONT size=\"1\">&nbsp;</FONT></TD>\\n<TD><FONT size=\"1\">&nbsp;</FONT></TD>\\n<TD align=\"right\"><FONT size=\"1\"></FONT></TD>\\n<TD><FONT size=\"1\">&nbsp;</FONT></TD>\\n<TD><FONT size=\"1\">&nbsp;</FONT></TD>\\n<TD><FONT size=\"1\"></FONT></TD>\\n<TD><FONT size=\"1\">&nbsp;</FONT></TD>\\n<TD><FONT size=\"1\"></FONT></TD>\\n</TR>\\n\\n<TR>\\n<TD colspan=\"25\"><HR noshade></TD>\\n</TR>\\n\\n<TR valign=\"bottom\" bgcolor=\"#eeeeee\">\\n<TD><FONT size=\"1\">&nbsp;</FONT></TD>\\n<TD><FONT size=\"1\"> </FONT></TD>\\n<TD><FONT size=\"1\">&nbsp;</FONT></TD>\\n<TD><FONT size=\"1\"></FONT></TD>\\n<TD><FONT size=\"1\">&nbsp;</FONT></TD>\\n<TD><FONT size=\"1\"></FONT></TD>\\n<TD><FONT size=\"1\">&nbsp;</FONT></TD>\\n<TD colspan=\"2\"><FONT size=\"1\"> </FONT></TD>\\n<TD><FONT size=\"1\">&nbsp;</FONT></TD>\\n<TD><FONT size=\"1\"></FONT></TD>\\n<TD align=\"right\" nowrap><FONT size=\"1\"></FONT></TD>\\n<TD><FONT size=\"1\">&nbsp;</FONT></TD>\\n<TD align=\"center\"><FONT size=\"1\"></FONT></TD>\\n<TD><FONT size=\"1\"></FONT></TD>\\n<TD align=\"right\" nowrap><FONT size=\"1\"></FONT></TD>\\n<TD><FONT size=\"1\"></FONT></TD>\\n<TD><FONT size=\"1\">&nbsp;</FONT></TD>\\n<TD><FONT size=\"1\">&nbsp;</FONT></TD>\\n<TD align=\"right\"><FONT size=\"1\"></FONT></TD>\\n<TD><FONT size=\"1\">&nbsp;</FONT></TD>\\n<TD><FONT size=\"1\">&nbsp;</FONT></TD>\\n<TD><FONT size=\"1\"></FONT></TD>\\n<TD><FONT size=\"1\">&nbsp;</FONT></TD>\\n<TD><FONT size=\"1\"></FONT></TD>\\n</TR>\\n\\n<TR>\\n<TD colspan=\"25\"><HR noshade></TD>\\n</TR>\\n\\n<TR valign=\"bottom\">\\n<TD><FONT size=\"1\">&nbsp;</FONT></TD>\\n<TD><FONT size=\"1\"> </FONT></TD>\\n<TD><FONT size=\"1\">&nbsp;</FONT></TD>\\n<TD><FONT size=\"1\"></FONT></TD>\\n<TD><FONT size=\"1\">&nbsp;</FONT></TD>\\n<TD><FONT size=\"1\"></FONT></TD>\\n<TD><FONT size=\"1\">&nbsp;</FONT></TD>\\n<TD colspan=\"2\"><FONT size=\"1\"> </FONT></TD>\\n<TD><FONT size=\"1\">&nbsp;</FONT></TD>\\n<TD><FONT size=\"1\"></FONT></TD>\\n<TD align=\"right\" nowrap><FONT size=\"1\"></FONT></TD>\\n<TD><FONT size=\"1\">&nbsp;</FONT></TD>\\n<TD align=\"center\"><FONT size=\"1\"></FONT></TD>\\n<TD><FONT size=\"1\"></FONT></TD>\\n<TD align=\"right\" nowrap><FONT size=\"1\"></FONT></TD>\\n<TD><FONT size=\"1\"></FONT></TD>\\n<TD><FONT size=\"1\">&nbsp;</FONT></TD>\\n<TD><FONT size=\"1\">&nbsp;</FONT></TD>\\n<TD align=\"right\"><FONT size=\"1\"></FONT></TD>\\n<TD><FONT size=\"1\">&nbsp;</FONT></TD>\\n<TD><FONT size=\"1\">&nbsp;</FONT></TD>\\n<TD><FONT size=\"1\"></FONT></TD>\\n<TD><FONT size=\"1\">&nbsp;</FONT></TD>\\n<TD><FONT size=\"1\"></FONT></TD>\\n</TR>\\n\\n<TR>\\n<TD colspan=\"25\"><HR noshade></TD>\\n</TR>\\n\\n<TR valign=\"bottom\" bgcolor=\"#eeeeee\">\\n<TD><FONT size=\"1\">&nbsp;</FONT></TD>\\n<TD><FONT size=\"1\"> </FONT></TD>\\n<TD><FONT size=\"1\">&nbsp;</FONT></TD>\\n<TD><FONT size=\"1\"></FONT></TD>\\n<TD><FONT size=\"1\">&nbsp;</FONT></TD>\\n<TD><FONT size=\"1\"></FONT></TD>\\n<TD><FONT size=\"1\">&nbsp;</FONT></TD>\\n<TD colspan=\"2\"><FONT size=\"1\"> </FONT></TD>\\n<TD><FONT size=\"1\">&nbsp;</FONT></TD>\\n<TD><FONT size=\"1\"></FONT></TD>\\n<TD align=\"right\" nowrap><FONT size=\"1\"></FONT></TD>\\n<TD><FONT size=\"1\">&nbsp;</FONT></TD>\\n<TD align=\"center\"><FONT size=\"1\"></FONT></TD>\\n<TD><FONT size=\"1\"></FONT></TD>\\n<TD align=\"right\" nowrap><FONT size=\"1\"></FONT></TD>\\n<TD><FONT size=\"1\"></FONT></TD>\\n<TD><FONT size=\"1\">&nbsp;</FONT></TD>\\n<TD><FONT size=\"1\">&nbsp;</FONT></TD>\\n<TD align=\"right\"><FONT size=\"1\"></FONT></TD>\\n<TD><FONT size=\"1\">&nbsp;</FONT></TD>\\n<TD><FONT size=\"1\">&nbsp;</FONT></TD>\\n<TD><FONT size=\"1\"></FONT></TD>\\n<TD><FONT size=\"1\">&nbsp;</FONT></TD>\\n<TD><FONT size=\"1\"></FONT></TD>\\n</TR>\\n\\n<TR>\\n<TD colspan=\"25\"><HR noshade></TD>\\n</TR>\\n\\n<TR valign=\"bottom\">\\n<TD><FONT size=\"1\">&nbsp;</FONT></TD>\\n<TD><FONT size=\"1\"> </FONT></TD>\\n<TD><FONT size=\"1\">&nbsp;</FONT></TD>\\n<TD><FONT size=\"1\"></FONT></TD>\\n<TD><FONT size=\"1\">&nbsp;</FONT></TD>\\n<TD><FONT size=\"1\"></FONT></TD>\\n<TD><FONT size=\"1\">&nbsp;</FONT></TD>\\n<TD colspan=\"2\"><FONT size=\"1\"> </FONT></TD>\\n<TD><FONT size=\"1\">&nbsp;</FONT></TD>\\n<TD><FONT size=\"1\"></FONT></TD>\\n<TD align=\"right\" nowrap><FONT size=\"1\"></FONT></TD>\\n<TD><FONT size=\"1\">&nbsp;</FONT></TD>\\n<TD align=\"center\"><FONT size=\"1\"></FONT></TD>\\n<TD><FONT size=\"1\"></FONT></TD>\\n<TD align=\"right\" nowrap><FONT size=\"1\"></FONT></TD>\\n<TD><FONT size=\"1\"></FONT></TD>\\n<TD><FONT size=\"1\">&nbsp;</FONT></TD>\\n<TD><FONT size=\"1\">&nbsp;</FONT></TD>\\n<TD align=\"right\"><FONT size=\"1\"></FONT></TD>\\n<TD><FONT size=\"1\">&nbsp;</FONT></TD>\\n<TD><FONT size=\"1\">&nbsp;</FONT></TD>\\n<TD><FONT size=\"1\"></FONT></TD>\\n<TD><FONT size=\"1\">&nbsp;</FONT></TD>\\n<TD><FONT size=\"1\"></FONT></TD>\\n</TR>\\n\\n<TR>\\n<TD colspan=\"25\"><HR noshade></TD>\\n</TR>\\n\\n<TR valign=\"bottom\" bgcolor=\"#eeeeee\">\\n<TD><FONT size=\"1\">&nbsp;</FONT></TD>\\n<TD><FONT size=\"1\"> </FONT></TD>\\n<TD><FONT size=\"1\">&nbsp;</FONT></TD>\\n<TD><FONT size=\"1\"></FONT></TD>\\n<TD><FONT size=\"1\">&nbsp;</FONT></TD>\\n<TD><FONT size=\"1\"></FONT></TD>\\n<TD><FONT size=\"1\">&nbsp;</FONT></TD>\\n<TD colspan=\"2\"><FONT size=\"1\"> </FONT></TD>\\n<TD><FONT size=\"1\">&nbsp;</FONT></TD>\\n<TD><FONT size=\"1\"></FONT></TD>\\n<TD align=\"right\" nowrap><FONT size=\"1\"></FONT></TD>\\n<TD><FONT size=\"1\">&nbsp;</FONT></TD>\\n<TD align=\"center\"><FONT size=\"1\"></FONT></TD>\\n<TD><FONT size=\"1\"></FONT></TD>\\n<TD align=\"right\" nowrap><FONT size=\"1\"></FONT></TD>\\n<TD><FONT size=\"1\"></FONT></TD>\\n<TD><FONT size=\"1\">&nbsp;</FONT></TD>\\n<TD><FONT size=\"1\">&nbsp;</FONT></TD>\\n<TD align=\"right\"><FONT size=\"1\"></FONT></TD>\\n<TD><FONT size=\"1\">&nbsp;</FONT></TD>\\n<TD><FONT size=\"1\">&nbsp;</FONT></TD>\\n<TD><FONT size=\"1\"></FONT></TD>\\n<TD><FONT size=\"1\">&nbsp;</FONT></TD>\\n<TD><FONT size=\"1\"></FONT></TD>\\n</TR>\\n\\n<TR>\\n<TD colspan=\"25\"><HR noshade></TD>\\n</TR>\\n\\n<TR valign=\"bottom\">\\n<TD><FONT size=\"1\">&nbsp;</FONT></TD>\\n<TD><FONT size=\"1\"> </FONT></TD>\\n<TD><FONT size=\"1\">&nbsp;</FONT></TD>\\n<TD><FONT size=\"1\"></FONT></TD>\\n<TD><FONT size=\"1\">&nbsp;</FONT></TD>\\n<TD><FONT size=\"1\"></FONT></TD>\\n<TD><FONT size=\"1\">&nbsp;</FONT></TD>\\n<TD colspan=\"2\"><FONT size=\"1\"> </FONT></TD>\\n<TD><FONT size=\"1\">&nbsp;</FONT></TD>\\n<TD><FONT size=\"1\"></FONT></TD>\\n<TD align=\"right\" nowrap><FONT size=\"1\"></FONT></TD>\\n<TD><FONT size=\"1\">&nbsp;</FONT></TD>\\n<TD align=\"center\"><FONT size=\"1\"></FONT></TD>\\n<TD><FONT size=\"1\"></FONT></TD>\\n<TD align=\"right\" nowrap><FONT size=\"1\"></FONT></TD>\\n<TD><FONT size=\"1\"></FONT></TD>\\n<TD><FONT size=\"1\">&nbsp;</FONT></TD>\\n<TD><FONT size=\"1\">&nbsp;</FONT></TD>\\n<TD align=\"right\"><FONT size=\"1\"></FONT></TD>\\n<TD><FONT size=\"1\">&nbsp;</FONT></TD>\\n<TD><FONT size=\"1\">&nbsp;</FONT></TD>\\n<TD><FONT size=\"1\"></FONT></TD>\\n<TD><FONT size=\"1\">&nbsp;</FONT></TD>\\n<TD><FONT size=\"1\"></FONT></TD>\\n</TR>\\n\\n<TR>\\n<TD colspan=\"25\"><HR noshade></TD>\\n</TR>\\n\\n<TR valign=\"bottom\" bgcolor=\"#eeeeee\">\\n<TD><FONT size=\"1\">&nbsp;</FONT></TD>\\n<TD><FONT size=\"1\"> </FONT></TD>\\n<TD><FONT size=\"1\">&nbsp;</FONT></TD>\\n<TD><FONT size=\"1\"></FONT></TD>\\n<TD><FONT size=\"1\">&nbsp;</FONT></TD>\\n<TD><FONT size=\"1\"></FONT></TD>\\n<TD><FONT size=\"1\">&nbsp;</FONT></TD>\\n<TD colspan=\"2\"><FONT size=\"1\"> </FONT></TD>\\n<TD><FONT size=\"1\">&nbsp;</FONT></TD>\\n<TD><FONT size=\"1\"></FONT></TD>\\n<TD align=\"right\" nowrap><FONT size=\"1\"></FONT></TD>\\n<TD><FONT size=\"1\">&nbsp;</FONT></TD>\\n<TD align=\"center\"><FONT size=\"1\"></FONT></TD>\\n<TD><FONT size=\"1\"></FONT></TD>\\n<TD align=\"right\" nowrap><FONT size=\"1\"></FONT></TD>\\n<TD><FONT size=\"1\"></FONT></TD>\\n<TD><FONT size=\"1\">&nbsp;</FONT></TD>\\n<TD><FONT size=\"1\">&nbsp;</FONT></TD>\\n<TD align=\"right\"><FONT size=\"1\"></FONT></TD>\\n<TD><FONT size=\"1\">&nbsp;</FONT></TD>\\n<TD><FONT size=\"1\">&nbsp;</FONT></TD>\\n<TD><FONT size=\"1\"></FONT></TD>\\n<TD><FONT size=\"1\">&nbsp;</FONT></TD>\\n<TD><FONT size=\"1\"></FONT></TD>\\n</TR>\\n\\n<TR>\\n<TD colspan=\"25\"><HR noshade></TD>\\n</TR>\\n\\n<TR valign=\"bottom\">\\n<TD><FONT size=\"1\">&nbsp;</FONT></TD>\\n<TD><FONT size=\"1\"> </FONT></TD>\\n<TD><FONT size=\"1\">&nbsp;</FONT></TD>\\n<TD><FONT size=\"1\"></FONT></TD>\\n<TD><FONT size=\"1\">&nbsp;</FONT></TD>\\n<TD><FONT size=\"1\"></FONT></TD>\\n<TD><FONT size=\"1\">&nbsp;</FONT></TD>\\n<TD colspan=\"2\"><FONT size=\"1\"> </FONT></TD>\\n<TD><FONT size=\"1\">&nbsp;</FONT></TD>\\n<TD><FONT size=\"1\"></FONT></TD>\\n<TD align=\"right\" nowrap><FONT size=\"1\"></FONT></TD>\\n<TD><FONT size=\"1\">&nbsp;</FONT></TD>\\n<TD align=\"center\"><FONT size=\"1\"></FONT></TD>\\n<TD><FONT size=\"1\"></FONT></TD>\\n<TD align=\"right\" nowrap><FONT size=\"1\"></FONT></TD>\\n<TD><FONT size=\"1\"></FONT></TD>\\n<TD><FONT size=\"1\">&nbsp;</FONT></TD>\\n<TD><FONT size=\"1\">&nbsp;</FONT></TD>\\n<TD align=\"right\"><FONT size=\"1\"></FONT></TD>\\n<TD><FONT size=\"1\">&nbsp;</FONT></TD>\\n<TD><FONT size=\"1\">&nbsp;</FONT></TD>\\n<TD><FONT size=\"1\"></FONT></TD>\\n<TD><FONT size=\"1\">&nbsp;</FONT></TD>\\n<TD><FONT size=\"1\"></FONT></TD>\\n</TR>\\n<TR>\\n<TD colspan=\"25\"><HR noshade></TD>\\n</TR>\\n</TABLE>\\n\\n<P align=\"center\"><FONT size=\"2\">Page 2</FONT>\\n\\n<!-- PAGEBREAK -->\\n<P><HR noshade><P>\\n<H5 align=\"left\" style=\"page-break-before:always\">&nbsp;</H5><P>\\n<TABLE border=\"0\" cellspacing=\"0\" cellpadding=\"2\" width=\"100%\">\\n<TR>\\n<TD colspan=\"16\"><HR noshade></TD>\\n</TR>\\n<TR>\\n<TD align=\"center\" colspan=\"16\"><FONT size=\"2\"><B>Table II &#151; Derivative\\nSecurities Acquired, Disposed of, or Beneficially Owned<BR>&nbsp;&nbsp;(e.g.,\\nputs, calls, warrants, options, convertible securities)</B></FONT></TD>\\n</TR>\\n\\n<TR>\\n<TD colspan=\"16\"><HR noshade></TD>\\n</TR>\\n\\n\\n<TR valign=\"top\">\\n<TD><FONT size=\"1\"><B>1.</B></FONT></TD>\\n<TD nowrap><FONT size=\"1\"><B>Title of Derivative<BR>Security</B><BR><I>(Instr.\\n3)</I></FONT></TD>\\n<TD><FONT size=\"1\"><B>2.</B></FONT></TD>\\n<TD colspan=\"3\" nowrap><FONT size=\"1\"><B>Conversion or Exercise<BR>Price of\\nDerivative<BR>Security</B></FONT></TD>\\n<TD><FONT size=\"1\"><B>3.</B></FONT></TD>\\n<TD nowrap><FONT size=\"1\"><B>Transaction\\nDate</B><BR><I>(Month&#47;Day&#47;Year)</I></FONT></TD>\\n<TD><FONT size=\"1\"><B>3A.</B></FONT></TD>\\n<TD nowrap><FONT size=\"1\"><B>Deemed Execution<BR>Date, if\\nany</B><BR><I>(Month&#47;Day&#47;Year)</I></FONT></TD>\\n<TD><FONT size=\"1\"><B>4.</B></FONT></TD>\\n<TD colspan=\"2\" nowrap><FONT size=\"1\"><B>Transaction Code</B><BR><I>(Instr.\\n8)</I></FONT></TD>\\n<TD><FONT size=\"1\"><B>5.</B></FONT></TD>\\n<TD colspan=\"4\" nowrap><FONT size=\"1\"><B>Number of Derivative\\nSecurities<BR>Acquired (A) or Disposed of (D)</B><BR><I>(Instr. 3, 4 and\\n5)</I></FONT></TD>\\n</TR>\\n\\n<TR>\\n<TD colspan=\"16\"><HR noshade></TD>\\n</TR>\\n\\n\\n<TR valign=\"bottom\">\\n<TD width=\"2%\"><FONT size=\"1\">&nbsp;</FONT></TD>\\n<TD width=\"10%\"><FONT size=\"1\">&nbsp;</FONT></TD>\\n<TD width=\"2%\"><FONT size=\"1\">&nbsp;</FONT></TD>\\n<TD width=\"3%\"><FONT size=\"1\">&nbsp;</FONT></TD>\\n<TD width=\"4%\"><FONT size=\"1\">&nbsp;</FONT></TD>\\n<TD width=\"4%\"><FONT size=\"1\">&nbsp;</FONT></TD>\\n<TD width=\"2%\"><FONT size=\"1\">&nbsp;</FONT></TD>\\n<TD width=\"9%\"><FONT size=\"1\">&nbsp;</FONT></TD>\\n<TD width=\"2%\"><FONT size=\"1\">&nbsp;</FONT></TD>\\n<TD width=\"9%\"><FONT size=\"1\">&nbsp;</FONT></TD>\\n<TD width=\"2%\"><FONT size=\"1\">&nbsp;</FONT></TD>\\n<TD width=\"4%\"><FONT size=\"1\">&nbsp;</FONT></TD>\\n<TD width=\"5%\"><FONT size=\"1\">&nbsp;</FONT></TD>\\n<TD width=\"2%\"><FONT size=\"1\">&nbsp;</FONT></TD>\\n<TD width=\"5%\" align=\"center\"><FONT size=\"1\"><B>(A)</B></FONT></TD>\\n<TD width=\"5%\" align=\"center\"><FONT size=\"1\"><B>(D)</B></FONT></TD>\\n</TR>\\n\\n<TR>\\n<TD colspan=\"16\"><HR noshade></TD>\\n</TR>\\n\\n<TR valign=\"bottom\" bgcolor=\"#eeeeee\">\\n<TD><FONT size=\"1\">&nbsp;</FONT></TD>\\n<TD><FONT size=\"1\">Director Stock Option (Right to Buy)</FONT></TD>\\n<TD><FONT size=\"1\">&nbsp;</FONT></TD>\\n<TD><FONT size=\"2\">&nbsp;</FONT></TD>\\n<TD align=\"right\"><FONT size=\"1\">$14.0625*</FONT></TD>\\n<TD><FONT size=\"1\">&nbsp;</FONT></TD>\\n<TD><FONT size=\"1\">&nbsp;</FONT></TD>\\n<TD align=\"center\"><FONT size=\"1\">Previously Reported</FONT></TD>\\n<TD><FONT size=\"1\">&nbsp;</FONT></TD>\\n<TD><FONT size=\"1\"></FONT></TD>\\n<TD align=\"center\"><FONT size=\"1\">&nbsp;</FONT></TD>\\n<TD colspan=\"2\"><FONT size=\"1\"> </FONT></TD>\\n<TD><FONT size=\"1\">&nbsp;</FONT></TD>\\n<TD align=\"right\"><FONT size=\"1\"></FONT></TD>\\n<TD align=\"right\"><FONT size=\"1\"></FONT></TD>\\n</TR>\\n\\n<TR>\\n<TD colspan=\"16\"><HR noshade></TD>\\n</TR>\\n\\n<TR valign=\"bottom\">\\n<TD><FONT size=\"1\">&nbsp;</FONT></TD>\\n<TD><FONT size=\"1\">Director Stock Option (Right to Buy)</FONT></TD>\\n<TD><FONT size=\"1\">&nbsp;</FONT></TD>\\n<TD><FONT size=\"2\">&nbsp;</FONT></TD>\\n<TD align=\"right\"><FONT size=\"1\">$25.094*</FONT></TD>\\n<TD><FONT size=\"1\">&nbsp;</FONT></TD>\\n<TD><FONT size=\"1\">&nbsp;</FONT></TD>\\n<TD align=\"center\"><FONT size=\"1\">Previously Reported</FONT></TD>\\n<TD><FONT size=\"1\">&nbsp;</FONT></TD>\\n<TD><FONT size=\"1\"></FONT></TD>\\n<TD align=\"center\"><FONT size=\"1\">&nbsp;</FONT></TD>\\n<TD colspan=\"2\"><FONT size=\"1\"> </FONT></TD>\\n<TD><FONT size=\"1\">&nbsp;</FONT></TD>\\n<TD align=\"right\"><FONT size=\"1\"></FONT></TD>\\n<TD align=\"right\"><FONT size=\"1\"></FONT></TD>\\n</TR>\\n\\n<TR>\\n<TD colspan=\"16\"><HR noshade></TD>\\n</TR>\\n\\n<TR valign=\"bottom\" bgcolor=\"#eeeeee\">\\n<TD><FONT size=\"1\">&nbsp;</FONT></TD>\\n<TD><FONT size=\"1\">Director Stock Option (Right to Buy)</FONT></TD>\\n<TD><FONT size=\"1\">&nbsp;</FONT></TD>\\n<TD><FONT size=\"2\">&nbsp;</FONT></TD>\\n<TD align=\"right\"><FONT size=\"1\">$34.85</FONT></TD>\\n<TD><FONT size=\"1\">&nbsp;</FONT></TD>\\n<TD><FONT size=\"1\">&nbsp;</FONT></TD>\\n<TD align=\"center\"><FONT size=\"1\">11/21/01</FONT></TD>\\n<TD><FONT size=\"1\">&nbsp;</FONT></TD>\\n<TD><FONT size=\"1\"></FONT></TD>\\n<TD align=\"center\"><FONT size=\"1\">&nbsp;</FONT></TD>\\n<TD colspan=\"2\"><FONT size=\"1\">A </FONT></TD>\\n<TD><FONT size=\"1\">&nbsp;</FONT></TD>\\n<TD align=\"center\"><FONT size=\"1\">1,000</FONT></TD>\\n<TD align=\"right\"><FONT size=\"1\"></FONT></TD>\\n</TR>\\n\\n<TR>\\n<TD colspan=\"16\"><HR noshade></TD>\\n</TR>\\n\\n<TR valign=\"bottom\">\\n<TD><FONT size=\"1\">&nbsp;</FONT></TD>\\n<TD><FONT size=\"1\"></FONT></TD>\\n<TD><FONT size=\"1\">&nbsp;</FONT></TD>\\n<TD><FONT size=\"2\">&nbsp;</FONT></TD>\\n<TD align=\"right\"><FONT size=\"1\"></FONT></TD>\\n<TD><FONT size=\"1\">&nbsp;</FONT></TD>\\n<TD><FONT size=\"1\">&nbsp;</FONT></TD>\\n<TD align=\"center\"><FONT size=\"1\"></FONT></TD>\\n<TD><FONT size=\"1\">&nbsp;</FONT></TD>\\n<TD><FONT size=\"1\"></FONT></TD>\\n<TD align=\"center\"><FONT size=\"1\">&nbsp;</FONT></TD>\\n<TD colspan=\"2\"><FONT size=\"1\"> </FONT></TD>\\n<TD><FONT size=\"1\">&nbsp;</FONT></TD>\\n<TD align=\"right\"><FONT size=\"1\"></FONT></TD>\\n<TD align=\"right\"><FONT size=\"1\"></FONT></TD>\\n</TR>\\n\\n<TR>\\n<TD colspan=\"16\"><HR noshade></TD>\\n</TR>\\n\\n<TR valign=\"bottom\" bgcolor=\"#eeeeee\">\\n<TD><FONT size=\"1\">&nbsp;</FONT></TD>\\n<TD><FONT size=\"1\"></FONT></TD>\\n<TD><FONT size=\"1\">&nbsp;</FONT></TD>\\n<TD><FONT size=\"2\">&nbsp;</FONT></TD>\\n<TD align=\"right\"><FONT size=\"1\"></FONT></TD>\\n<TD><FONT size=\"1\">&nbsp;</FONT></TD>\\n<TD><FONT size=\"1\">&nbsp;</FONT></TD>\\n<TD align=\"center\"><FONT size=\"1\"></FONT></TD>\\n<TD><FONT size=\"1\">&nbsp;</FONT></TD>\\n<TD><FONT size=\"1\"></FONT></TD>\\n<TD align=\"center\"><FONT size=\"1\">&nbsp;</FONT></TD>\\n<TD colspan=\"2\"><FONT size=\"1\"> </FONT></TD>\\n<TD><FONT size=\"1\">&nbsp;</FONT></TD>\\n<TD align=\"right\"><FONT size=\"1\"></FONT></TD>\\n<TD align=\"right\"><FONT size=\"1\"></FONT></TD>\\n</TR>\\n\\n<TR>\\n<TD colspan=\"16\"><HR noshade></TD>\\n</TR>\\n\\n<TR valign=\"bottom\">\\n<TD><FONT size=\"1\">&nbsp;</FONT></TD>\\n<TD><FONT size=\"1\"></FONT></TD>\\n<TD><FONT size=\"1\">&nbsp;</FONT></TD>\\n<TD><FONT size=\"2\">&nbsp;</FONT></TD>\\n<TD align=\"right\"><FONT size=\"1\"></FONT></TD>\\n<TD><FONT size=\"1\">&nbsp;</FONT></TD>\\n<TD><FONT size=\"1\">&nbsp;</FONT></TD>\\n<TD align=\"center\"><FONT size=\"1\"></FONT></TD>\\n<TD><FONT size=\"1\">&nbsp;</FONT></TD>\\n<TD><FONT size=\"1\"></FONT></TD>\\n<TD align=\"center\"><FONT size=\"1\">&nbsp;</FONT></TD>\\n<TD colspan=\"2\"><FONT size=\"1\"> </FONT></TD>\\n<TD><FONT size=\"1\">&nbsp;</FONT></TD>\\n<TD align=\"right\"><FONT size=\"1\"></FONT></TD>\\n<TD align=\"right\"><FONT size=\"1\"></FONT></TD>\\n</TR>\\n\\n<TR>\\n<TD colspan=\"16\"><HR noshade></TD>\\n</TR>\\n\\n<TR valign=\"bottom\" bgcolor=\"#eeeeee\">\\n<TD><FONT size=\"1\">&nbsp;</FONT></TD>\\n<TD><FONT size=\"1\"></FONT></TD>\\n<TD><FONT size=\"1\">&nbsp;</FONT></TD>\\n<TD><FONT size=\"2\">&nbsp;</FONT></TD>\\n<TD align=\"right\"><FONT size=\"1\"></FONT></TD>\\n<TD><FONT size=\"1\">&nbsp;</FONT></TD>\\n<TD><FONT size=\"1\">&nbsp;</FONT></TD>\\n<TD align=\"center\"><FONT size=\"1\"></FONT></TD>\\n<TD><FONT size=\"1\">&nbsp;</FONT></TD>\\n<TD><FONT size=\"1\"></FONT></TD>\\n<TD align=\"center\"><FONT size=\"1\">&nbsp;</FONT></TD>\\n<TD colspan=\"2\"><FONT size=\"1\"> </FONT></TD>\\n<TD><FONT size=\"1\">&nbsp;</FONT></TD>\\n<TD align=\"right\"><FONT size=\"1\"></FONT></TD>\\n<TD align=\"right\"><FONT size=\"1\"></FONT></TD>\\n</TR>\\n\\n<TR>\\n<TD colspan=\"16\"><HR noshade></TD>\\n</TR>\\n\\n<TR valign=\"bottom\">\\n<TD><FONT size=\"1\">&nbsp;</FONT></TD>\\n<TD><FONT size=\"1\"></FONT></TD>\\n<TD><FONT size=\"1\">&nbsp;</FONT></TD>\\n<TD><FONT size=\"2\">&nbsp;</FONT></TD>\\n<TD align=\"right\"><FONT size=\"1\"></FONT></TD>\\n<TD><FONT size=\"1\">&nbsp;</FONT></TD>\\n<TD><FONT size=\"1\">&nbsp;</FONT></TD>\\n<TD align=\"center\"><FONT size=\"1\"></FONT></TD>\\n<TD><FONT size=\"1\">&nbsp;</FONT></TD>\\n<TD><FONT size=\"1\"></FONT></TD>\\n<TD align=\"center\"><FONT size=\"1\">&nbsp;</FONT></TD>\\n<TD colspan=\"2\"><FONT size=\"1\"> </FONT></TD>\\n<TD><FONT size=\"1\">&nbsp;</FONT></TD>\\n<TD align=\"right\"><FONT size=\"1\"></FONT></TD>\\n<TD align=\"right\"><FONT size=\"1\"></FONT></TD>\\n</TR>\\n\\n<TR>\\n<TD colspan=\"16\"><HR noshade></TD>\\n</TR>\\n\\n<TR valign=\"bottom\" bgcolor=\"#eeeeee\">\\n<TD><FONT size=\"1\">&nbsp;</FONT></TD>\\n<TD><FONT size=\"1\"></FONT></TD>\\n<TD><FONT size=\"1\">&nbsp;</FONT></TD>\\n<TD><FONT size=\"2\">&nbsp;</FONT></TD>\\n<TD align=\"right\"><FONT size=\"1\"></FONT></TD>\\n<TD><FONT size=\"1\">&nbsp;</FONT></TD>\\n<TD><FONT size=\"1\">&nbsp;</FONT></TD>\\n<TD align=\"center\"><FONT size=\"1\"></FONT></TD>\\n<TD><FONT size=\"1\">&nbsp;</FONT></TD>\\n<TD><FONT size=\"1\"></FONT></TD>\\n<TD align=\"center\"><FONT size=\"1\">&nbsp;</FONT></TD>\\n<TD colspan=\"2\"><FONT size=\"1\"> </FONT></TD>\\n<TD><FONT size=\"1\">&nbsp;</FONT></TD>\\n<TD align=\"right\"><FONT size=\"1\"></FONT></TD>\\n<TD align=\"right\"><FONT size=\"1\"></FONT></TD>\\n</TR>\\n\\n<TR>\\n<TD colspan=\"16\"><HR noshade></TD>\\n</TR>\\n\\n<TR valign=\"bottom\">\\n<TD><FONT size=\"1\">&nbsp;</FONT></TD>\\n<TD><FONT size=\"1\"></FONT></TD>\\n<TD><FONT size=\"1\">&nbsp;</FONT></TD>\\n<TD><FONT size=\"2\">&nbsp;</FONT></TD>\\n<TD align=\"right\"><FONT size=\"1\"></FONT></TD>\\n<TD><FONT size=\"1\">&nbsp;</FONT></TD>\\n<TD><FONT size=\"1\">&nbsp;</FONT></TD>\\n<TD align=\"center\"><FONT size=\"1\"></FONT></TD>\\n<TD><FONT size=\"1\">&nbsp;</FONT></TD>\\n<TD><FONT size=\"1\"></FONT></TD>\\n<TD align=\"center\"><FONT size=\"1\">&nbsp;</FONT></TD>\\n<TD colspan=\"2\"><FONT size=\"1\"> </FONT></TD>\\n<TD><FONT size=\"1\">&nbsp;</FONT></TD>\\n<TD align=\"right\"><FONT size=\"1\"></FONT></TD>\\n<TD align=\"right\"><FONT size=\"1\"></FONT></TD>\\n</TR>\\n\\n<TR>\\n<TD colspan=\"16\"><HR noshade></TD>\\n</TR>\\n\\n</TABLE>\\n\\n\\n<P align=\"center\"><FONT size=\"2\">Page 3</FONT>\\n\\n<!-- PAGEBREAK -->\\n<P><HR noshade><P>\\n<H5 align=\"left\" style=\"page-break-before:always\">&nbsp;</H5><P>\\n\\n<TABLE border=\"0\" cellspacing=\"0\" cellpadding=\"0\" width=\"100%\">\\n<TR>\\n<TD colspan=\"18\"><HR noshade></TD>\\n</TR>\\n<TR>\\n<TD align=\"center\" colspan=\"18\"><FONT size=\"2\"><B>Table II &#151; Derivative\\nSecurities Acquired, Disposed of, or Beneficially Owned &#151;\\nContinued<BR>(e.g., puts, calls, warrants, options, convertible\\nsecurities)</B></FONT></TD>\\n</TR>\\n<TR>\\n<TD colspan=\"18\"><HR noshade></TD>\\n</TR>\\n<TR valign=\"top\">\\n<TD><FONT size=\"1\"><B>6.</B></FONT></TD>\\n<TD colspan=\"2\"><FONT size=\"1\"><B>Date Exercisable and<BR>Expiration\\nDate</B><BR><I>(Month&#47;Day&#47;Year)</I></FONT></TD>\\n<TD><FONT size=\"1\"><B>7.</B></FONT></TD>\\n<TD colspan=\"2\"><FONT size=\"1\"><B>Title and Amount\\nof<BR>Underlying Securities</B><BR><I>(Instr. 3 and 4)</I></FONT></TD>\\n<TD><FONT size=\"1\"><B>8.</B></FONT></TD>\\n<TD colspan=\"3\"><FONT size=\"1\"><B>Price of\\nDerivative<BR>Security</B><BR><I>(Instr. 5)</I></FONT></TD>\\n<TD><FONT size=\"1\"><B>9.</B></FONT></TD>\\n<TD colspan=\"3\" nowrap><FONT size=\"1\"><B>Number of Derivative<BR>Securities\\nBeneficially<BR>\\nOwned at End of<BR>\\nYear</B><BR><I>(Instr. 4)</I></FONT></TD>\\n<TD><FONT size=\"1\"><B>10.</B></FONT></TD>\\n<TD nowrap><FONT size=\"1\"><B>Ownership of <BR>Derivative Security:<BR>Direct\\n(D)<BR>or Indirect (I)</B><BR><I>(Instr. 4)</I></FONT></TD>\\n<TD><FONT size=\"1\"><B>11.</B></FONT></TD>\\n<TD nowrap><FONT size=\"1\"><B>Nature\\nof<BR>Indirect<BR>Beneficial<BR>Ownership</B><BR><I>(Instr. 4)</I></FONT></TD>\\n</TR>\\n\\n<TR>\\n<TD colspan=\"18\" valign=\"top\"><HR noshade></TD>\\n</TR>\\n\\n<TR valign=\"bottom\">\\n<TD width=\"2%\"><FONT size=\"1\">&nbsp;</FONT></TD>\\n<TD width=\"4%\" align=\"center\" nowrap><FONT\\nsize=\"1\"><B>Date<BR>Exercisable</B></FONT></TD>\\n<TD width=\"4%\" align=\"center\" nowrap><FONT\\nsize=\"1\"><B>Expiration<BR>Date</B></FONT></TD>\\n<TD width=\"2%\"><FONT size=\"1\">&nbsp;</FONT></TD>\\n<TD width=\"4%\"><FONT size=\"1\"><B>Title</B></FONT></TD>\\n<TD width=\"4%\" align=\"center\" nowrap><FONT size=\"1\"><B>Amount or<BR>Number\\nof<BR>Shares</B></FONT></TD>\\n<TD width=\"2%\"><FONT size=\"1\">&nbsp;</FONT></TD>\\n<TD width=\"1%\"><FONT size=\"1\">&nbsp;</FONT></TD>\\n<TD width=\"3%\"><FONT size=\"1\">&nbsp;</FONT></TD>\\n<TD width=\"2%\"><FONT size=\"1\">&nbsp;</FONT></TD>\\n<TD width=\"2%\"><FONT size=\"1\">&nbsp;</FONT></TD>\\n<TD width=\"2%\"><FONT size=\"1\">&nbsp;</FONT></TD>\\n<TD width=\"4%\"><FONT size=\"1\">&nbsp;</FONT></TD>\\n<TD width=\"2%\"><FONT size=\"1\">&nbsp;</FONT></TD>\\n<TD width=\"2%\"><FONT size=\"1\">&nbsp;</FONT></TD>\\n<TD width=\"8%\"><FONT size=\"1\">&nbsp;</FONT></TD>\\n<TD width=\"2%\"><FONT size=\"1\">&nbsp;</FONT></TD>\\n<TD width=\"5%\"><FONT size=\"1\">&nbsp;</FONT></TD>\\n</TR>\\n\\n<TR>\\n<TD colspan=\"18\"><HR noshade></TD>\\n</TR>\\n\\n<TR valign=\"bottom\" bgcolor=\"#eeeeee\">\\n<TD><FONT size=\"1\">&nbsp;</FONT></TD>\\n<TD align=\"center\"><FONT size=\"1\">(1)</FONT></TD>\\n<TD align=\"center\"><FONT size=\"1\">3/20/10</FONT></TD>\\n<TD align=\"center\"><FONT size=\"1\">&nbsp;</FONT></TD>\\n<TD><FONT size=\"1\">Common Stock</FONT></TD>\\n<TD align=\"right\"><FONT size=\"1\">10,000*</FONT></TD>\\n<TD><FONT size=\"1\">&nbsp;</FONT></TD>\\n<TD width=\"1%\" align=\"right\"><FONT size=\"2\">&nbsp;</FONT></TD>\\n<TD width=\"4%\" align=\"right\" nowrap><FONT size=\"1\">None</FONT></TD> <TD><FONT\\nsize=\"1\">&nbsp;</FONT></TD>\\n<TD><FONT size=\"1\">&nbsp;</FONT></TD>\\n<TD><FONT size=\"1\">&nbsp;</FONT></TD>\\n<TD align=\"right\"><FONT size=\"1\">10,000*</FONT></TD>\\n<TD><FONT size=\"1\">&nbsp;</FONT></TD>\\n<TD><FONT size=\"1\">&nbsp;</FONT></TD>\\n<TD><FONT size=\"1\">D</FONT></TD>\\n<TD><FONT size=\"1\">&nbsp;</FONT></TD>\\n<TD><FONT size=\"1\"></FONT></TD>\\n</TR>\\n\\n<TR>\\n<TD colspan=\"18\"><HR noshade></TD>\\n</TR>\\n\\n<TR valign=\"bottom\">\\n<TD><FONT size=\"1\">&nbsp;</FONT></TD>\\n<TD align=\"center\"><FONT size=\"1\">(2)</FONT></TD>\\n<TD align=\"center\"><FONT size=\"1\">9/18/10</FONT></TD>\\n<TD align=\"center\"><FONT size=\"1\">&nbsp;</FONT></TD>\\n<TD><FONT size=\"1\">Common Stock</FONT></TD>\\n<TD align=\"right\"><FONT size=\"1\">2000*</FONT></TD>\\n<TD><FONT size=\"1\">&nbsp;</FONT></TD>\\n<TD width=\"1%\" align=\"right\"><FONT size=\"2\">&nbsp;</FONT></TD>\\n<TD width=\"4%\" align=\"right\" nowrap><FONT size=\"1\">None</FONT></TD> <TD><FONT\\nsize=\"1\">&nbsp;</FONT></TD>\\n<TD><FONT size=\"1\">&nbsp;</FONT></TD>\\n<TD><FONT size=\"1\">&nbsp;</FONT></TD>\\n<TD align=\"right\"><FONT size=\"1\">2,000*</FONT></TD>\\n<TD><FONT size=\"1\">&nbsp;</FONT></TD>\\n<TD><FONT size=\"1\">&nbsp;</FONT></TD>\\n<TD><FONT size=\"1\">D</FONT></TD>\\n<TD><FONT size=\"1\">&nbsp;</FONT></TD>\\n<TD><FONT size=\"1\"></FONT></TD>\\n</TR>\\n\\n<TR>\\n<TD colspan=\"18\"><HR noshade></TD>\\n</TR>\\n\\n<TR valign=\"bottom\" bgcolor=\"#eeeeee\">\\n<TD><FONT size=\"1\">&nbsp;</FONT></TD>\\n<TD align=\"center\"><FONT size=\"1\">(3)</FONT></TD>\\n<TD align=\"center\"><FONT size=\"1\">11/21/11</FONT></TD>\\n<TD align=\"center\"><FONT size=\"1\">&nbsp;</FONT></TD>\\n<TD><FONT size=\"1\">Common Stock</FONT></TD>\\n<TD align=\"right\"><FONT size=\"1\">1,000</FONT></TD>\\n<TD><FONT size=\"1\">&nbsp;</FONT></TD>\\n<TD width=\"1%\" align=\"right\"><FONT size=\"2\">&nbsp;</FONT></TD>\\n<TD width=\"4%\" align=\"right\" nowrap><FONT size=\"1\">None</FONT></TD> <TD><FONT\\nsize=\"1\">&nbsp;</FONT></TD>\\n<TD><FONT size=\"1\">&nbsp;</FONT></TD>\\n<TD><FONT size=\"1\">&nbsp;</FONT></TD>\\n<TD align=\"right\"><FONT size=\"1\">1,000</FONT></TD>\\n<TD><FONT size=\"1\">&nbsp;</FONT></TD>\\n<TD><FONT size=\"1\">&nbsp;</FONT></TD>\\n<TD><FONT size=\"1\">D</FONT></TD>\\n<TD><FONT size=\"1\">&nbsp;</FONT></TD>\\n<TD><FONT size=\"1\"></FONT></TD>\\n</TR>\\n\\n<TR>\\n<TD colspan=\"18\"><HR noshade></TD>\\n</TR>\\n\\n<TR valign=\"bottom\">\\n<TD><FONT size=\"1\">&nbsp;</FONT></TD>\\n<TD align=\"center\"><FONT size=\"1\">&nbsp;</FONT></TD>\\n<TD align=\"center\"><FONT size=\"1\">&nbsp;</FONT></TD>\\n<TD align=\"center\"><FONT size=\"1\">&nbsp;</FONT></TD>\\n<TD><FONT size=\"1\"></FONT></TD>\\n<TD align=\"right\"><FONT size=\"1\"></FONT></TD>\\n<TD><FONT size=\"1\">&nbsp;</FONT></TD>\\n<TD width=\"1%\" align=\"right\"><FONT size=\"2\">&nbsp;</FONT></TD>\\n<TD width=\"4%\" align=\"right\" nowrap><FONT size=\"1\"></FONT></TD> <TD><FONT\\nsize=\"1\">&nbsp;</FONT></TD>\\n<TD><FONT size=\"1\">&nbsp;</FONT></TD>\\n<TD><FONT size=\"1\">&nbsp;</FONT></TD>\\n<TD align=\"right\"><FONT size=\"1\"></FONT></TD>\\n<TD><FONT size=\"1\">&nbsp;</FONT></TD>\\n<TD><FONT size=\"1\">&nbsp;</FONT></TD>\\n<TD><FONT size=\"1\"></FONT></TD>\\n<TD><FONT size=\"1\">&nbsp;</FONT></TD>\\n<TD><FONT size=\"1\"></FONT></TD>\\n</TR>\\n\\n<TR>\\n<TD colspan=\"18\"><HR noshade></TD>\\n</TR>\\n\\n<TR valign=\"bottom\" bgcolor=\"#eeeeee\">\\n<TD><FONT size=\"1\">&nbsp;</FONT></TD>\\n<TD align=\"center\"><FONT size=\"1\">&nbsp;</FONT></TD>\\n<TD align=\"center\"><FONT size=\"1\">&nbsp;</FONT></TD>\\n<TD align=\"center\"><FONT size=\"1\">&nbsp;</FONT></TD>\\n<TD><FONT size=\"1\"></FONT></TD>\\n<TD align=\"right\"><FONT size=\"1\"></FONT></TD>\\n<TD><FONT size=\"1\">&nbsp;</FONT></TD>\\n<TD width=\"1%\" align=\"right\"><FONT size=\"2\">&nbsp;</FONT></TD>\\n<TD width=\"4%\" align=\"right\" nowrap><FONT size=\"1\"></FONT></TD> <TD><FONT\\nsize=\"1\">&nbsp;</FONT></TD>\\n<TD><FONT size=\"1\">&nbsp;</FONT></TD>\\n<TD><FONT size=\"1\">&nbsp;</FONT></TD>\\n<TD align=\"right\"><FONT size=\"1\"></FONT></TD>\\n<TD><FONT size=\"1\">&nbsp;</FONT></TD>\\n<TD><FONT size=\"1\">&nbsp;</FONT></TD>\\n<TD><FONT size=\"1\"></FONT></TD>\\n<TD><FONT size=\"1\">&nbsp;</FONT></TD>\\n<TD><FONT size=\"1\"></FONT></TD>\\n</TR>\\n\\n<TR>\\n<TD colspan=\"18\"><HR noshade></TD>\\n</TR>\\n\\n<TR valign=\"bottom\">\\n<TD><FONT size=\"1\">&nbsp;</FONT></TD>\\n<TD align=\"center\"><FONT size=\"1\">&nbsp;</FONT></TD>\\n<TD align=\"center\"><FONT size=\"1\">&nbsp;</FONT></TD>\\n<TD align=\"center\"><FONT size=\"1\">&nbsp;</FONT></TD>\\n<TD><FONT size=\"1\"></FONT></TD>\\n<TD align=\"right\"><FONT size=\"1\"></FONT></TD>\\n<TD><FONT size=\"1\">&nbsp;</FONT></TD>\\n<TD width=\"1%\" align=\"right\"><FONT size=\"2\">&nbsp;</FONT></TD>\\n<TD width=\"4%\" align=\"right\" nowrap><FONT size=\"1\"></FONT></TD> <TD><FONT\\nsize=\"1\">&nbsp;</FONT></TD>\\n<TD><FONT size=\"1\">&nbsp;</FONT></TD>\\n<TD><FONT size=\"1\">&nbsp;</FONT></TD>\\n<TD align=\"right\"><FONT size=\"1\"></FONT></TD>\\n<TD><FONT size=\"1\">&nbsp;</FONT></TD>\\n<TD><FONT size=\"1\">&nbsp;</FONT></TD>\\n<TD><FONT size=\"1\"></FONT></TD>\\n<TD><FONT size=\"1\">&nbsp;</FONT></TD>\\n<TD><FONT size=\"1\"></FONT></TD>\\n</TR>\\n\\n<TR>\\n<TD colspan=\"18\"><HR noshade></TD>\\n</TR>\\n\\n<TR valign=\"bottom\" bgcolor=\"#eeeeee\">\\n<TD><FONT size=\"1\">&nbsp;</FONT></TD>\\n<TD align=\"center\"><FONT size=\"1\">&nbsp;</FONT></TD>\\n<TD align=\"center\"><FONT size=\"1\">&nbsp;</FONT></TD>\\n<TD align=\"center\"><FONT size=\"1\">&nbsp;</FONT></TD>\\n<TD><FONT size=\"1\"></FONT></TD>\\n<TD align=\"right\"><FONT size=\"1\"></FONT></TD>\\n<TD><FONT size=\"1\">&nbsp;</FONT></TD>\\n<TD width=\"1%\" align=\"right\"><FONT size=\"2\">&nbsp;</FONT></TD>\\n<TD width=\"4%\" align=\"right\" nowrap><FONT size=\"1\"></FONT></TD> <TD><FONT\\nsize=\"1\">&nbsp;</FONT></TD>\\n<TD><FONT size=\"1\">&nbsp;</FONT></TD>\\n<TD><FONT size=\"1\">&nbsp;</FONT></TD>\\n<TD align=\"right\"><FONT size=\"1\"></FONT></TD>\\n<TD><FONT size=\"1\">&nbsp;</FONT></TD>\\n<TD><FONT size=\"1\">&nbsp;</FONT></TD>\\n<TD><FONT size=\"1\"></FONT></TD>\\n<TD><FONT size=\"1\">&nbsp;</FONT></TD>\\n<TD><FONT size=\"1\"></FONT></TD>\\n</TR>\\n\\n<TR>\\n<TD colspan=\"18\"><HR noshade></TD>\\n</TR>\\n\\n<TR valign=\"bottom\">\\n<TD><FONT size=\"1\">&nbsp;</FONT></TD>\\n<TD align=\"center\"><FONT size=\"1\">&nbsp;</FONT></TD>\\n<TD align=\"center\"><FONT size=\"1\">&nbsp;</FONT></TD>\\n<TD align=\"center\"><FONT size=\"1\">&nbsp;</FONT></TD>\\n<TD><FONT size=\"1\"></FONT></TD>\\n<TD align=\"right\"><FONT size=\"1\"></FONT></TD>\\n<TD><FONT size=\"1\">&nbsp;</FONT></TD>\\n<TD width=\"1%\" align=\"right\"><FONT size=\"2\">&nbsp;</FONT></TD>\\n<TD width=\"4%\" align=\"right\" nowrap><FONT size=\"1\"></FONT></TD> <TD><FONT\\nsize=\"1\">&nbsp;</FONT></TD>\\n<TD><FONT size=\"1\">&nbsp;</FONT></TD>\\n<TD><FONT size=\"1\">&nbsp;</FONT></TD>\\n<TD align=\"right\"><FONT size=\"1\"></FONT></TD>\\n<TD><FONT size=\"1\">&nbsp;</FONT></TD>\\n<TD><FONT size=\"1\">&nbsp;</FONT></TD>\\n<TD><FONT size=\"1\"></FONT></TD>\\n<TD><FONT size=\"1\">&nbsp;</FONT></TD>\\n<TD><FONT size=\"1\"></FONT></TD>\\n</TR>\\n\\n<TR>\\n<TD colspan=\"18\"><HR noshade></TD>\\n</TR>\\n\\n<TR valign=\"bottom\" bgcolor=\"#eeeeee\">\\n<TD><FONT size=\"1\">&nbsp;</FONT></TD>\\n<TD align=\"center\"><FONT size=\"1\">&nbsp;</FONT></TD>\\n<TD align=\"center\"><FONT size=\"1\">&nbsp;</FONT></TD>\\n<TD align=\"center\"><FONT size=\"1\">&nbsp;</FONT></TD>\\n<TD><FONT size=\"1\"></FONT></TD>\\n<TD align=\"right\"><FONT size=\"1\"></FONT></TD>\\n<TD><FONT size=\"1\">&nbsp;</FONT></TD>\\n<TD width=\"1%\" align=\"right\"><FONT size=\"2\">&nbsp;</FONT></TD>\\n<TD width=\"4%\" align=\"right\" nowrap><FONT size=\"1\"></FONT></TD> <TD><FONT\\nsize=\"1\">&nbsp;</FONT></TD>\\n<TD><FONT size=\"1\">&nbsp;</FONT></TD>\\n<TD><FONT size=\"1\">&nbsp;</FONT></TD>\\n<TD align=\"right\"><FONT size=\"1\"></FONT></TD>\\n<TD><FONT size=\"1\">&nbsp;</FONT></TD>\\n<TD><FONT size=\"1\">&nbsp;</FONT></TD>\\n<TD><FONT size=\"1\"></FONT></TD>\\n<TD><FONT size=\"1\">&nbsp;</FONT></TD>\\n<TD><FONT size=\"1\"></FONT></TD>\\n</TR>\\n\\n<TR>\\n<TD colspan=\"18\"><HR noshade></TD>\\n</TR>\\n\\n<TR valign=\"bottom\">\\n<TD><FONT size=\"1\">&nbsp;</FONT></TD>\\n<TD align=\"center\"><FONT size=\"1\">&nbsp;</FONT></TD>\\n<TD align=\"center\"><FONT size=\"1\">&nbsp;</FONT></TD>\\n<TD align=\"center\"><FONT size=\"1\">&nbsp;</FONT></TD>\\n<TD><FONT size=\"1\"></FONT></TD>\\n<TD align=\"right\"><FONT size=\"1\"></FONT></TD>\\n<TD><FONT size=\"1\">&nbsp;</FONT></TD>\\n<TD width=\"1%\" align=\"right\"><FONT size=\"2\">&nbsp;</FONT></TD>\\n<TD width=\"4%\" align=\"right\" nowrap><FONT size=\"1\"></FONT></TD> <TD><FONT\\nsize=\"1\">&nbsp;</FONT></TD>\\n<TD><FONT size=\"1\">&nbsp;</FONT></TD>\\n<TD><FONT size=\"1\">&nbsp;</FONT></TD>\\n<TD align=\"right\"><FONT size=\"1\"></FONT></TD>\\n<TD><FONT size=\"1\">&nbsp;</FONT></TD>\\n<TD><FONT size=\"1\">&nbsp;</FONT></TD>\\n<TD><FONT size=\"1\"></FONT></TD>\\n<TD><FONT size=\"1\">&nbsp;</FONT></TD>\\n<TD><FONT size=\"1\"></FONT></TD>\\n</TR>\\n\\n<TR>\\n<TD colspan=\"18\"><HR noshade></TD>\\n</TR>\\n</TABLE>\\n\\n<P><FONT size=\"2\"><B>Explanation of Responses:</B></FONT>\\n<P>\\n<P><FONT size=\"2\">*Adjusted to reflect 2-for-1 stock split effective\\n12/6/00</FONT> <P>\\n<P><FONT size=\"2\">(1) Exercisable in annual increments of 2,000 shares each,\\ncommencing 3/20/00.</FONT> <P>\\n<P><FONT size=\"2\">(2) Exercisable in annual increments of 400 shares each,\\ncommencing 9/18/00.</FONT> <P>\\n<P><FONT size=\"2\">(3) Exercisable in annual increments of 200 shares each,\\ncommencing 11/21/01.</FONT> <P>\\n<TABLE border=\"0\" width=\"65%\" align=\"center\">\\n<TR valign=\"bottom\">\\n<TD align=\"center\" width=\"30%\"><FONT size=\"2\">/s/ John A. Meslow</FONT></TD>\\n<TD width=\"5%\"><FONT size=\"2\">&nbsp;</FONT></TD>\\n<TD align=\"center\" width=\"30%\"><FONT size=\"2\">November 17, 2002</FONT></TD>\\n</TR>\\n\\n<TR>\\n<TD valign=\"top\" align=\"center\"><HR size=\"1\" noshade><FONT size=\"2\">**Signature\\nof Reporting Person</FONT></TD>\\n<TD><FONT size=\"2\">&nbsp;</FONT></TD>\\n<TD valign=\"top\" align=\"center\"><HR size=\"1\" noshade><FONT\\nsize=\"2\">Date</FONT></TD>\\n</TR>\\n</TABLE>\\n\\n<P>\\n<HR size=\"1\" width=\"18%\" noshade align=\"left\">\\n\\n<TABLE border=\"0\" width=\"100%\">\\n\\n<TR>\\n<TD align=\"right\" valign=\"top\" width=\"1%\"><FONT size=\"2\">**</FONT></TD>\\n<TD width=\"2%\"><FONT size=\"2\">&nbsp;</FONT></TD>\\n<TD width=\"97%\"><FONT size=\"2\">Intentional misstatements or omissions of facts\\nconstitute Federal Criminal Violations. See 18&nbsp;U.S.C.&nbsp;1001 and\\n15&nbsp;U.S.C.&nbsp;78ff(a).</FONT></TD>\\n</TR>\\n\\n<TR>\\n<TD colspan=\"3\"><FONT size=\"2\">&nbsp;</FONT></TD>\\n</TR>\\n\\n<TR>\\n<TD align=\"right\" valign=\"top\"><FONT size=\"2\">Note:</FONT></TD>\\n<TD><FONT size=\"2\">&nbsp;</FONT></TD>\\n<TD><FONT size=\"2\">File three copies of this Form, one of which must be manually\\nsigned. If space provided is insufficient, see Instruction 6 for\\nprocedure.</FONT></TD>\\n</TR>\\n\\n</TABLE>\\n\\n\\n<P align=\"center\"><FONT size=\"2\">Page 4</FONT>\\n\\n</BODY>\\n</HTML>\\n\\n</TEXT>\\n</DOCUMENT>\\n</SEC-DOCUMENT>\\n-----END PRIVACY-ENHANCED MESSAGE-----\\n'"
      ]
     },
     "execution_count": 34,
     "metadata": {},
     "output_type": "execute_result"
    }
   ],
   "source": [
    "raw_txt\n",
    "#Output below:"
   ]
  },
  {
   "cell_type": "markdown",
   "id": "65018957",
   "metadata": {},
   "source": [
    "Woah, that's a lot of text. Let's look for the tags in the document!"
   ]
  },
  {
   "cell_type": "code",
   "execution_count": 35,
   "id": "0f7803d1",
   "metadata": {},
   "outputs": [
    {
     "name": "stdout",
     "output_type": "stream",
     "text": [
      "This is x, y, z: 1856 , 45504 , <TYPE>5/A\n"
     ]
    },
    {
     "data": {
      "text/plain": [
       "[(1856, 45504, '<TYPE>5/A')]"
      ]
     },
     "execution_count": 35,
     "metadata": {},
     "output_type": "execute_result"
    }
   ],
   "source": [
    "get_document_tags(raw_txt)\n",
    "#Output below:"
   ]
  },
  {
   "cell_type": "markdown",
   "id": "c23c5334",
   "metadata": {},
   "source": [
    "As we see above, there is only 1 tag in this document for the 5/A. This means there is only 1 section in this document that starts from index 1856 and ends at index 45504"
   ]
  }
 ],
 "metadata": {
  "kernelspec": {
   "display_name": "Python 3 (ipykernel)",
   "language": "python",
   "name": "python3"
  },
  "language_info": {
   "codemirror_mode": {
    "name": "ipython",
    "version": 3
   },
   "file_extension": ".py",
   "mimetype": "text/x-python",
   "name": "python",
   "nbconvert_exporter": "python",
   "pygments_lexer": "ipython3",
   "version": "3.9.12"
  }
 },
 "nbformat": 4,
 "nbformat_minor": 5
}
